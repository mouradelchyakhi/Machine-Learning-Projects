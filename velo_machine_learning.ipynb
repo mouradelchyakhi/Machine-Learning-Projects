{
 "cells": [
  {
   "cell_type": "markdown",
   "metadata": {},
   "source": [
    "# Projet"
   ]
  },
  {
   "cell_type": "markdown",
   "metadata": {},
   "source": [
    "Le projet consiste à prévoir le nombre de vélos loués à chaque heure dans des bornes libres-services de la ville (système type Vélib'). La variable cible est ici la variable **count**.\n",
    "\n",
    "Voici un descriptif de l'ensemble des variables :\n",
    "* *datetime* - date et heure du relevé \n",
    "* *season* - 1 = printemps , 2 = été, 3 = automne, 4 = hiver \n",
    "* *holiday* – indique si le jour est un jour de vacances scolaires \n",
    "* *workingday* - indique si le jour est travaillé (ni week-end ni vacances) \n",
    "* *weather* - 1: Dégagé à nuageux, 2 : Brouillard, 3 : Légère pluie ou neige, 4 : Fortes averses ou neiges \n",
    "* *temp* – température en degrés Celsius \n",
    "* *atemp* – température ressentie en degrés Celsius \n",
    "* *humidity* – taux d’humidité \n",
    "* *windspeed* – vitesse du vent \n",
    "* *casual* - nombre de locations d’usagers non abonnés \n",
    "* *registered* – nombre de locations d’usagers abonnés \n",
    "* *count* – nombre total de locations de vélos "
   ]
  },
  {
   "attachments": {},
   "cell_type": "markdown",
   "metadata": {},
   "source": [
    "Faire attention, dans ce genre de problèmes, à certains points :\n",
    "- quel type de problème dois-je traiter ?\n",
    "- feature engineering : est-ce que j'utilise les données correctement, toutes les données ?\n",
    "- data leakage : est-ce qu'une de mes features n'est pas trop explicative ?\n",
    "- ai-je bien traité toutes les données correctement ?\n",
    "- est-ce que mon modèle est adapté ?"
   ]
  },
  {
   "cell_type": "code",
   "execution_count": 1,
   "metadata": {
    "ExecuteTime": {
     "end_time": "2018-01-23T21:07:13.585997Z",
     "start_time": "2018-01-23T21:07:11.883063Z"
    }
   },
   "outputs": [],
   "source": [
    "import pandas as pd\n",
    "import numpy as np\n",
    "\n",
    "import matplotlib.pyplot as plt\n",
    "import seaborn as sns\n",
    "%matplotlib inline"
   ]
  },
  {
   "cell_type": "markdown",
   "metadata": {},
   "source": [
    "## Lecture des données et formulation de la problématique"
   ]
  },
  {
   "cell_type": "code",
   "execution_count": 2,
   "metadata": {
    "ExecuteTime": {
     "end_time": "2018-01-23T21:08:16.102718Z",
     "start_time": "2018-01-23T21:08:16.035614Z"
    }
   },
   "outputs": [
    {
     "name": "stdout",
     "output_type": "stream",
     "text": [
      "Cette base de données est constituée de  10886  lignes et de  12  colonnes.\n"
     ]
    },
    {
     "data": {
      "text/html": [
       "<div>\n",
       "<style scoped>\n",
       "    .dataframe tbody tr th:only-of-type {\n",
       "        vertical-align: middle;\n",
       "    }\n",
       "\n",
       "    .dataframe tbody tr th {\n",
       "        vertical-align: top;\n",
       "    }\n",
       "\n",
       "    .dataframe thead th {\n",
       "        text-align: right;\n",
       "    }\n",
       "</style>\n",
       "<table border=\"1\" class=\"dataframe\">\n",
       "  <thead>\n",
       "    <tr style=\"text-align: right;\">\n",
       "      <th></th>\n",
       "      <th>datetime</th>\n",
       "      <th>season</th>\n",
       "      <th>holiday</th>\n",
       "      <th>workingday</th>\n",
       "      <th>weather</th>\n",
       "      <th>temp</th>\n",
       "      <th>atemp</th>\n",
       "      <th>humidity</th>\n",
       "      <th>windspeed</th>\n",
       "      <th>casual</th>\n",
       "      <th>registered</th>\n",
       "      <th>count</th>\n",
       "    </tr>\n",
       "  </thead>\n",
       "  <tbody>\n",
       "    <tr>\n",
       "      <th>0</th>\n",
       "      <td>2011-01-01 00:00:00</td>\n",
       "      <td>1</td>\n",
       "      <td>0</td>\n",
       "      <td>0</td>\n",
       "      <td>1</td>\n",
       "      <td>9.84</td>\n",
       "      <td>14.395</td>\n",
       "      <td>81</td>\n",
       "      <td>0.0</td>\n",
       "      <td>3</td>\n",
       "      <td>13</td>\n",
       "      <td>16</td>\n",
       "    </tr>\n",
       "    <tr>\n",
       "      <th>1</th>\n",
       "      <td>2011-01-01 01:00:00</td>\n",
       "      <td>1</td>\n",
       "      <td>0</td>\n",
       "      <td>0</td>\n",
       "      <td>1</td>\n",
       "      <td>9.02</td>\n",
       "      <td>13.635</td>\n",
       "      <td>80</td>\n",
       "      <td>0.0</td>\n",
       "      <td>8</td>\n",
       "      <td>32</td>\n",
       "      <td>40</td>\n",
       "    </tr>\n",
       "    <tr>\n",
       "      <th>2</th>\n",
       "      <td>2011-01-01 02:00:00</td>\n",
       "      <td>1</td>\n",
       "      <td>0</td>\n",
       "      <td>0</td>\n",
       "      <td>1</td>\n",
       "      <td>9.02</td>\n",
       "      <td>13.635</td>\n",
       "      <td>80</td>\n",
       "      <td>0.0</td>\n",
       "      <td>5</td>\n",
       "      <td>27</td>\n",
       "      <td>32</td>\n",
       "    </tr>\n",
       "    <tr>\n",
       "      <th>3</th>\n",
       "      <td>2011-01-01 03:00:00</td>\n",
       "      <td>1</td>\n",
       "      <td>0</td>\n",
       "      <td>0</td>\n",
       "      <td>1</td>\n",
       "      <td>9.84</td>\n",
       "      <td>14.395</td>\n",
       "      <td>75</td>\n",
       "      <td>0.0</td>\n",
       "      <td>3</td>\n",
       "      <td>10</td>\n",
       "      <td>13</td>\n",
       "    </tr>\n",
       "    <tr>\n",
       "      <th>4</th>\n",
       "      <td>2011-01-01 04:00:00</td>\n",
       "      <td>1</td>\n",
       "      <td>0</td>\n",
       "      <td>0</td>\n",
       "      <td>1</td>\n",
       "      <td>9.84</td>\n",
       "      <td>14.395</td>\n",
       "      <td>75</td>\n",
       "      <td>0.0</td>\n",
       "      <td>0</td>\n",
       "      <td>1</td>\n",
       "      <td>1</td>\n",
       "    </tr>\n",
       "  </tbody>\n",
       "</table>\n",
       "</div>"
      ],
      "text/plain": [
       "              datetime  season  holiday  workingday  weather  temp   atemp  \\\n",
       "0  2011-01-01 00:00:00       1        0           0        1  9.84  14.395   \n",
       "1  2011-01-01 01:00:00       1        0           0        1  9.02  13.635   \n",
       "2  2011-01-01 02:00:00       1        0           0        1  9.02  13.635   \n",
       "3  2011-01-01 03:00:00       1        0           0        1  9.84  14.395   \n",
       "4  2011-01-01 04:00:00       1        0           0        1  9.84  14.395   \n",
       "\n",
       "   humidity  windspeed  casual  registered  count  \n",
       "0        81        0.0       3          13     16  \n",
       "1        80        0.0       8          32     40  \n",
       "2        80        0.0       5          27     32  \n",
       "3        75        0.0       3          10     13  \n",
       "4        75        0.0       0           1      1  "
      ]
     },
     "execution_count": 2,
     "metadata": {},
     "output_type": "execute_result"
    }
   ],
   "source": [
    "df = pd.read_csv(\"../data/input/velo.csv\")\n",
    "print(\"Cette base de données est constituée de \",df.shape[0],\" lignes et de \", df.shape[1], \" colonnes.\")\n",
    "df.head()"
   ]
  },
  {
   "cell_type": "markdown",
   "metadata": {},
   "source": [
    "La variable cible est la variable **count** qui est une variable continue.\n",
    "\n",
    "Nous allons epxloiter le jeu de données *velo.csv*, qui contient 10 886 lignes, pour nous permettre d'élaborer un modèle de prédiction du nombre total de locations de vélos à chaque heure.\n",
    "\n",
    "Nous sommes donc face à une problématique **d'apprentissage supervisé dans le cas d'une variable cible continue**."
   ]
  },
  {
   "cell_type": "markdown",
   "metadata": {},
   "source": [
    "## Préparation des données"
   ]
  },
  {
   "cell_type": "markdown",
   "metadata": {},
   "source": [
    "Dans cette partie, nous analyserons les points suivants :\n",
    "\n",
    "    1. Suppression des variables non nécessaires à l'analyse\n",
    "    2. Vérification du typage des données\n",
    "    3. Traitement des valeurs manquantes\n",
    "    4. Feature engineering : création de nouvelles variables à partir de celles existantes"
   ]
  },
  {
   "cell_type": "markdown",
   "metadata": {},
   "source": [
    "### 1. Suppression des variables non nécessaires à l'analyse\n",
    "\n",
    "Parmi les 11 variables explicatives, nous pouvons à priori en supprimer déjà 2, qui sont les suivantes : *casual* et *registered*.\n",
    "\n",
    "En effet, la variable cible *count* est la somme de ces 2 variables : ce ne sont donc pas des variables explicatives à proprement parler dans le sens où il s'agit d'une décomposition de la variable cible en deux catégories.\n",
    "\n",
    "En pratique, ces deux variables résultent de la connaissance de la variable cible et de la typologie de l'usager (ou le contraire, mais ce n'est pas dans notre périmètre).\n",
    "\n",
    "De plus, la variable *temp* et la variable *atemp* sont dépendantes : physiquement la température ressentie dépend de la température et de la vitesse du vent, qui est aussi une variable dans notre jeu de données. Nous allons pour l'instant garder ces 2 variables, afin d'étudier les corrélations plus loin dans le notebook."
   ]
  },
  {
   "cell_type": "code",
   "execution_count": 3,
   "metadata": {},
   "outputs": [
    {
     "data": {
      "text/html": [
       "<div>\n",
       "<style scoped>\n",
       "    .dataframe tbody tr th:only-of-type {\n",
       "        vertical-align: middle;\n",
       "    }\n",
       "\n",
       "    .dataframe tbody tr th {\n",
       "        vertical-align: top;\n",
       "    }\n",
       "\n",
       "    .dataframe thead th {\n",
       "        text-align: right;\n",
       "    }\n",
       "</style>\n",
       "<table border=\"1\" class=\"dataframe\">\n",
       "  <thead>\n",
       "    <tr style=\"text-align: right;\">\n",
       "      <th></th>\n",
       "      <th>datetime</th>\n",
       "      <th>season</th>\n",
       "      <th>holiday</th>\n",
       "      <th>workingday</th>\n",
       "      <th>weather</th>\n",
       "      <th>temp</th>\n",
       "      <th>atemp</th>\n",
       "      <th>humidity</th>\n",
       "      <th>windspeed</th>\n",
       "      <th>count</th>\n",
       "    </tr>\n",
       "  </thead>\n",
       "  <tbody>\n",
       "    <tr>\n",
       "      <th>3709</th>\n",
       "      <td>2011-09-05 11:00:00</td>\n",
       "      <td>3</td>\n",
       "      <td>1</td>\n",
       "      <td>0</td>\n",
       "      <td>2</td>\n",
       "      <td>28.70</td>\n",
       "      <td>33.335</td>\n",
       "      <td>74</td>\n",
       "      <td>11.0014</td>\n",
       "      <td>308</td>\n",
       "    </tr>\n",
       "    <tr>\n",
       "      <th>6741</th>\n",
       "      <td>2012-03-18 04:00:00</td>\n",
       "      <td>1</td>\n",
       "      <td>0</td>\n",
       "      <td>0</td>\n",
       "      <td>2</td>\n",
       "      <td>17.22</td>\n",
       "      <td>21.210</td>\n",
       "      <td>94</td>\n",
       "      <td>11.0014</td>\n",
       "      <td>14</td>\n",
       "    </tr>\n",
       "    <tr>\n",
       "      <th>9848</th>\n",
       "      <td>2012-10-14 17:00:00</td>\n",
       "      <td>4</td>\n",
       "      <td>0</td>\n",
       "      <td>0</td>\n",
       "      <td>1</td>\n",
       "      <td>26.24</td>\n",
       "      <td>31.060</td>\n",
       "      <td>44</td>\n",
       "      <td>12.9980</td>\n",
       "      <td>539</td>\n",
       "    </tr>\n",
       "    <tr>\n",
       "      <th>1410</th>\n",
       "      <td>2011-04-04 15:00:00</td>\n",
       "      <td>2</td>\n",
       "      <td>0</td>\n",
       "      <td>1</td>\n",
       "      <td>1</td>\n",
       "      <td>31.16</td>\n",
       "      <td>33.335</td>\n",
       "      <td>23</td>\n",
       "      <td>36.9974</td>\n",
       "      <td>143</td>\n",
       "    </tr>\n",
       "    <tr>\n",
       "      <th>10672</th>\n",
       "      <td>2012-12-11 02:00:00</td>\n",
       "      <td>4</td>\n",
       "      <td>0</td>\n",
       "      <td>1</td>\n",
       "      <td>2</td>\n",
       "      <td>16.40</td>\n",
       "      <td>20.455</td>\n",
       "      <td>66</td>\n",
       "      <td>22.0028</td>\n",
       "      <td>1</td>\n",
       "    </tr>\n",
       "    <tr>\n",
       "      <th>2999</th>\n",
       "      <td>2011-07-13 21:00:00</td>\n",
       "      <td>3</td>\n",
       "      <td>0</td>\n",
       "      <td>1</td>\n",
       "      <td>1</td>\n",
       "      <td>28.70</td>\n",
       "      <td>33.335</td>\n",
       "      <td>79</td>\n",
       "      <td>7.0015</td>\n",
       "      <td>250</td>\n",
       "    </tr>\n",
       "    <tr>\n",
       "      <th>1433</th>\n",
       "      <td>2011-04-05 14:00:00</td>\n",
       "      <td>2</td>\n",
       "      <td>0</td>\n",
       "      <td>1</td>\n",
       "      <td>2</td>\n",
       "      <td>14.76</td>\n",
       "      <td>15.910</td>\n",
       "      <td>57</td>\n",
       "      <td>32.9975</td>\n",
       "      <td>76</td>\n",
       "    </tr>\n",
       "    <tr>\n",
       "      <th>9129</th>\n",
       "      <td>2012-09-03 18:00:00</td>\n",
       "      <td>3</td>\n",
       "      <td>1</td>\n",
       "      <td>0</td>\n",
       "      <td>1</td>\n",
       "      <td>30.34</td>\n",
       "      <td>34.850</td>\n",
       "      <td>66</td>\n",
       "      <td>11.0014</td>\n",
       "      <td>482</td>\n",
       "    </tr>\n",
       "    <tr>\n",
       "      <th>7446</th>\n",
       "      <td>2012-05-09 15:00:00</td>\n",
       "      <td>2</td>\n",
       "      <td>0</td>\n",
       "      <td>1</td>\n",
       "      <td>2</td>\n",
       "      <td>26.24</td>\n",
       "      <td>31.060</td>\n",
       "      <td>53</td>\n",
       "      <td>7.0015</td>\n",
       "      <td>259</td>\n",
       "    </tr>\n",
       "    <tr>\n",
       "      <th>4523</th>\n",
       "      <td>2011-11-01 13:00:00</td>\n",
       "      <td>4</td>\n",
       "      <td>0</td>\n",
       "      <td>1</td>\n",
       "      <td>1</td>\n",
       "      <td>19.68</td>\n",
       "      <td>23.485</td>\n",
       "      <td>55</td>\n",
       "      <td>12.9980</td>\n",
       "      <td>167</td>\n",
       "    </tr>\n",
       "  </tbody>\n",
       "</table>\n",
       "</div>"
      ],
      "text/plain": [
       "                  datetime  season  holiday  workingday  weather   temp  \\\n",
       "3709   2011-09-05 11:00:00       3        1           0        2  28.70   \n",
       "6741   2012-03-18 04:00:00       1        0           0        2  17.22   \n",
       "9848   2012-10-14 17:00:00       4        0           0        1  26.24   \n",
       "1410   2011-04-04 15:00:00       2        0           1        1  31.16   \n",
       "10672  2012-12-11 02:00:00       4        0           1        2  16.40   \n",
       "2999   2011-07-13 21:00:00       3        0           1        1  28.70   \n",
       "1433   2011-04-05 14:00:00       2        0           1        2  14.76   \n",
       "9129   2012-09-03 18:00:00       3        1           0        1  30.34   \n",
       "7446   2012-05-09 15:00:00       2        0           1        2  26.24   \n",
       "4523   2011-11-01 13:00:00       4        0           1        1  19.68   \n",
       "\n",
       "        atemp  humidity  windspeed  count  \n",
       "3709   33.335        74    11.0014    308  \n",
       "6741   21.210        94    11.0014     14  \n",
       "9848   31.060        44    12.9980    539  \n",
       "1410   33.335        23    36.9974    143  \n",
       "10672  20.455        66    22.0028      1  \n",
       "2999   33.335        79     7.0015    250  \n",
       "1433   15.910        57    32.9975     76  \n",
       "9129   34.850        66    11.0014    482  \n",
       "7446   31.060        53     7.0015    259  \n",
       "4523   23.485        55    12.9980    167  "
      ]
     },
     "execution_count": 3,
     "metadata": {},
     "output_type": "execute_result"
    }
   ],
   "source": [
    "# Nous supprimons les colonnes \"casual\" et \"registered\"\n",
    "df = df.drop([\"casual\",\"registered\"], axis=1)\n",
    "\n",
    "# Affichons 10 lignes du dataframe prise au hasard\n",
    "df.sample(10,  random_state=1)"
   ]
  },
  {
   "cell_type": "markdown",
   "metadata": {},
   "source": [
    "Remarquons que cet échantillon de 10 lignes nous a permis de mettre en évidence une erreur dans la définition de l'une des variables : la variable *season*.\n",
    "\n",
    "En effet, nous avons par exemple pour l'id 2999 une valeur *season* égale à 3 qui correspond d'après le dictionnaire à la saison de l'automne, alors que nous devrions trouver la valeur 2, étant le 13/07. En prenant quelques autres valeurs, nous remarquons qu'il y'a eu une mauvaise définition des saisons associées aux valeurs.\n",
    "\n",
    "**Redéfinissons donc la description de cette variable** ->  *season* - 1 = hiver  , 2 = printemps, 3 = été, 4 = automne\n"
   ]
  },
  {
   "cell_type": "markdown",
   "metadata": {},
   "source": [
    "### 2. Vérification du typage des données\n",
    "\n",
    "Nous allons vérifier tous les types de données afin de nous assurer que les données catégorielles soient considérées en tant que telles par Python, et que la variable cible soit bien une variable numérique."
   ]
  },
  {
   "cell_type": "code",
   "execution_count": 4,
   "metadata": {
    "scrolled": true
   },
   "outputs": [
    {
     "data": {
      "text/plain": [
       "datetime       object\n",
       "season          int64\n",
       "holiday         int64\n",
       "workingday      int64\n",
       "weather         int64\n",
       "temp          float64\n",
       "atemp         float64\n",
       "humidity        int64\n",
       "windspeed     float64\n",
       "count           int64\n",
       "dtype: object"
      ]
     },
     "execution_count": 4,
     "metadata": {},
     "output_type": "execute_result"
    }
   ],
   "source": [
    "# Type de données \n",
    "df.dtypes"
   ]
  },
  {
   "cell_type": "markdown",
   "metadata": {},
   "source": [
    "Nous devons changer certains types de données. \n",
    "\n",
    "En effet, les variables suivantes sont des variables catégorielles, d'après le dictionnaire des données fournit au début de ce jeu de données : *season*, *holiday*, *workingday*, *weather*.\n",
    "\n",
    "Nous pouvons également le vérifier en calculant le nombre de valeurs distinctes par variables explicatives, ce que je vais faire dans la cellule suivante."
   ]
  },
  {
   "cell_type": "code",
   "execution_count": 5,
   "metadata": {},
   "outputs": [
    {
     "name": "stdout",
     "output_type": "stream",
     "text": [
      "datetime has 10886 unique values.\n",
      "season has 4 unique values.\n",
      "holiday has 2 unique values.\n",
      "workingday has 2 unique values.\n",
      "weather has 4 unique values.\n",
      "temp has 49 unique values.\n",
      "atemp has 60 unique values.\n",
      "humidity has 89 unique values.\n",
      "windspeed has 28 unique values.\n",
      "count has 822 unique values.\n"
     ]
    }
   ],
   "source": [
    "for colname, serie in df.iteritems():\n",
    "    print(colname + \" has \" + str(serie.drop_duplicates().shape[0]) + \" unique values.\")"
   ]
  },
  {
   "cell_type": "markdown",
   "metadata": {},
   "source": [
    "Nous remarquons également grâce à cette analyse, que **la variable datetime est inexploitable car ne possède que des valeurs uniques**. \n",
    "\n",
    "Or, cette variable contient entre autre l'information sur l'heure, information essentielle dans notre problème. Nous verrons comment palier à ce problème dans le point n°4. \n",
    "\n",
    "Pour l'heure, transformons les 4 variables sus-citées en variables catégorielles."
   ]
  },
  {
   "cell_type": "code",
   "execution_count": 6,
   "metadata": {},
   "outputs": [],
   "source": [
    "df[\"season\"] = pd.Categorical(df[\"season\"])\n",
    "df[\"holiday\"] = pd.Categorical(df[\"holiday\"])\n",
    "df[\"workingday\"] = pd.Categorical(df[\"workingday\"])\n",
    "df[\"weather\"] = pd.Categorical(df[\"weather\"])"
   ]
  },
  {
   "cell_type": "code",
   "execution_count": 7,
   "metadata": {},
   "outputs": [
    {
     "data": {
      "text/plain": [
       "datetime        object\n",
       "season        category\n",
       "holiday       category\n",
       "workingday    category\n",
       "weather       category\n",
       "temp           float64\n",
       "atemp          float64\n",
       "humidity         int64\n",
       "windspeed      float64\n",
       "count            int64\n",
       "dtype: object"
      ]
     },
     "execution_count": 7,
     "metadata": {},
     "output_type": "execute_result"
    }
   ],
   "source": [
    "# Vérifions que le type de données a bien été mis à jour\n",
    "df.dtypes"
   ]
  },
  {
   "cell_type": "markdown",
   "metadata": {},
   "source": [
    "### 3. Traitement des valeurs manquantes et des valeurs aberrantes\n",
    "\n",
    "Les valeurs manquantes sont à traiter impérativement afin d'avoir un jeu de données le plus exhautif possible.\n",
    "\n",
    "Nous pouvons également vérifier la présence d'outliers, qui peuvent être problématiques dans certaines modélisations. "
   ]
  },
  {
   "cell_type": "code",
   "execution_count": 8,
   "metadata": {},
   "outputs": [
    {
     "data": {
      "text/plain": [
       "datetime      0\n",
       "season        0\n",
       "holiday       0\n",
       "workingday    0\n",
       "weather       0\n",
       "temp          0\n",
       "atemp         0\n",
       "humidity      0\n",
       "windspeed     0\n",
       "count         0\n",
       "dtype: int64"
      ]
     },
     "execution_count": 8,
     "metadata": {},
     "output_type": "execute_result"
    }
   ],
   "source": [
    "df.isnull().sum()"
   ]
  },
  {
   "cell_type": "markdown",
   "metadata": {},
   "source": [
    "Il n'y a à priori pas de valeur manquante, d'après la description du jeu de données. Nous n'avons donc pas d'imputation à effectuer."
   ]
  },
  {
   "cell_type": "markdown",
   "metadata": {},
   "source": [
    "Maintenant, calculons le nombre de données de la variable cible considérées comme des outliers.\n",
    "Pour ce faire, créeons d'abord une boîte à moustache pour visualer la valeure seuil, puis calculons la."
   ]
  },
  {
   "cell_type": "code",
   "execution_count": 9,
   "metadata": {},
   "outputs": [
    {
     "data": {
      "text/plain": [
       "<matplotlib.axes._subplots.AxesSubplot at 0x2351637e348>"
      ]
     },
     "execution_count": 9,
     "metadata": {},
     "output_type": "execute_result"
    },
    {
     "data": {
      "image/png": "[encoded data removed]",
      "text/plain": [
       "<Figure size 432x288 with 1 Axes>"
      ]
     },
     "metadata": {
      "needs_background": "light"
     },
     "output_type": "display_data"
    }
   ],
   "source": [
    "import seaborn as sns\n",
    "sns.boxplot(x=df['count'])"
   ]
  },
  {
   "cell_type": "code",
   "execution_count": 10,
   "metadata": {},
   "outputs": [
    {
     "name": "stdout",
     "output_type": "stream",
     "text": [
      "A partir de  647.0 , la variable 'count' est considérée comme un outlier\n"
     ]
    }
   ],
   "source": [
    "#Calcul du seuil\n",
    "Q1 = df['count'].quantile(0.25)\n",
    "Q3 = df['count'].quantile(0.75)\n",
    "IQR = Q3 - Q1\n",
    "seuil = 1.5*IQR + Q3\n",
    "print(\"A partir de \",seuil,\", la variable 'count' est considérée comme un outlier\")"
   ]
  },
  {
   "cell_type": "code",
   "execution_count": 11,
   "metadata": {},
   "outputs": [
    {
     "name": "stdout",
     "output_type": "stream",
     "text": [
      "Pourcentage du jeu de données considérées comme des données 'outliers' :\n",
      " 2.8 \n",
      "\n",
      "Nombre de lignes du jeu de données considérées comme des données 'outliers' :\n",
      " 303\n"
     ]
    }
   ],
   "source": [
    "print(\"Pourcentage du jeu de données considérées comme des données 'outliers' :\\n {:.1f} \\n\".format(\n",
    "    100*(df[df['count']>= seuil].shape[0])/df.shape[0]))\n",
    "\n",
    "print(\"Nombre de lignes du jeu de données considérées comme des données 'outliers' :\\n {:.0f}\".format(\n",
    "    (df[df['count']>= seuil].shape[0])))"
   ]
  },
  {
   "cell_type": "markdown",
   "metadata": {},
   "source": [
    "Moins de 3% du jeu de données est considérées comme 'hors-norme'. Nous allons garder ces données afin de voir leur influence sur les modèles que nous allons mettre en place."
   ]
  },
  {
   "cell_type": "markdown",
   "metadata": {},
   "source": [
    "### 4. Feature engineering : création de nouvelles variables\n",
    "\n",
    "Revenons à la variable *datetime* inexploitable en l'état car elle correspond à l'identifiant du jeu de données, afin de remonter à la période de la prise d'acquisition de la donnée.\n",
    "\n",
    "Or, cette variable contient d'autres variables très intéressantes que nous allons extraire pour en savoir plus sur le jeu de données, et en utiliser certaines comme variable explicative.\n",
    "\n",
    "L'heure est une variable explicative nécessaire à l'exploration et l'entrainement du modèle."
   ]
  },
  {
   "cell_type": "code",
   "execution_count": 12,
   "metadata": {},
   "outputs": [],
   "source": [
    "df['month'] = pd.DatetimeIndex(df['datetime']).month\n",
    "df['day'] = pd.DatetimeIndex(df['datetime']).day\n",
    "df['hour'] = pd.DatetimeIndex(df['datetime']).hour"
   ]
  },
  {
   "cell_type": "code",
   "execution_count": 13,
   "metadata": {},
   "outputs": [],
   "source": [
    "# Supression de la variable \"datetime\"\n",
    "df = df.drop([\"datetime\"], axis=1)"
   ]
  },
  {
   "cell_type": "code",
   "execution_count": 14,
   "metadata": {},
   "outputs": [
    {
     "data": {
      "text/html": [
       "<div>\n",
       "<style scoped>\n",
       "    .dataframe tbody tr th:only-of-type {\n",
       "        vertical-align: middle;\n",
       "    }\n",
       "\n",
       "    .dataframe tbody tr th {\n",
       "        vertical-align: top;\n",
       "    }\n",
       "\n",
       "    .dataframe thead th {\n",
       "        text-align: right;\n",
       "    }\n",
       "</style>\n",
       "<table border=\"1\" class=\"dataframe\">\n",
       "  <thead>\n",
       "    <tr style=\"text-align: right;\">\n",
       "      <th></th>\n",
       "      <th>temp</th>\n",
       "      <th>atemp</th>\n",
       "      <th>humidity</th>\n",
       "      <th>windspeed</th>\n",
       "      <th>count</th>\n",
       "      <th>month</th>\n",
       "      <th>day</th>\n",
       "      <th>hour</th>\n",
       "    </tr>\n",
       "  </thead>\n",
       "  <tbody>\n",
       "    <tr>\n",
       "      <th>count</th>\n",
       "      <td>10886.00000</td>\n",
       "      <td>10886.000000</td>\n",
       "      <td>10886.000000</td>\n",
       "      <td>10886.000000</td>\n",
       "      <td>10886.000000</td>\n",
       "      <td>10886.000000</td>\n",
       "      <td>10886.000000</td>\n",
       "      <td>10886.000000</td>\n",
       "    </tr>\n",
       "    <tr>\n",
       "      <th>mean</th>\n",
       "      <td>20.23086</td>\n",
       "      <td>23.655084</td>\n",
       "      <td>61.886460</td>\n",
       "      <td>12.799395</td>\n",
       "      <td>191.574132</td>\n",
       "      <td>6.521495</td>\n",
       "      <td>9.992559</td>\n",
       "      <td>11.541613</td>\n",
       "    </tr>\n",
       "    <tr>\n",
       "      <th>std</th>\n",
       "      <td>7.79159</td>\n",
       "      <td>8.474601</td>\n",
       "      <td>19.245033</td>\n",
       "      <td>8.164537</td>\n",
       "      <td>181.144454</td>\n",
       "      <td>3.444373</td>\n",
       "      <td>5.476608</td>\n",
       "      <td>6.915838</td>\n",
       "    </tr>\n",
       "    <tr>\n",
       "      <th>min</th>\n",
       "      <td>0.82000</td>\n",
       "      <td>0.760000</td>\n",
       "      <td>0.000000</td>\n",
       "      <td>0.000000</td>\n",
       "      <td>1.000000</td>\n",
       "      <td>1.000000</td>\n",
       "      <td>1.000000</td>\n",
       "      <td>0.000000</td>\n",
       "    </tr>\n",
       "    <tr>\n",
       "      <th>25%</th>\n",
       "      <td>13.94000</td>\n",
       "      <td>16.665000</td>\n",
       "      <td>47.000000</td>\n",
       "      <td>7.001500</td>\n",
       "      <td>42.000000</td>\n",
       "      <td>4.000000</td>\n",
       "      <td>5.000000</td>\n",
       "      <td>6.000000</td>\n",
       "    </tr>\n",
       "    <tr>\n",
       "      <th>50%</th>\n",
       "      <td>20.50000</td>\n",
       "      <td>24.240000</td>\n",
       "      <td>62.000000</td>\n",
       "      <td>12.998000</td>\n",
       "      <td>145.000000</td>\n",
       "      <td>7.000000</td>\n",
       "      <td>10.000000</td>\n",
       "      <td>12.000000</td>\n",
       "    </tr>\n",
       "    <tr>\n",
       "      <th>75%</th>\n",
       "      <td>26.24000</td>\n",
       "      <td>31.060000</td>\n",
       "      <td>77.000000</td>\n",
       "      <td>16.997900</td>\n",
       "      <td>284.000000</td>\n",
       "      <td>10.000000</td>\n",
       "      <td>15.000000</td>\n",
       "      <td>18.000000</td>\n",
       "    </tr>\n",
       "    <tr>\n",
       "      <th>max</th>\n",
       "      <td>41.00000</td>\n",
       "      <td>45.455000</td>\n",
       "      <td>100.000000</td>\n",
       "      <td>56.996900</td>\n",
       "      <td>977.000000</td>\n",
       "      <td>12.000000</td>\n",
       "      <td>19.000000</td>\n",
       "      <td>23.000000</td>\n",
       "    </tr>\n",
       "  </tbody>\n",
       "</table>\n",
       "</div>"
      ],
      "text/plain": [
       "              temp         atemp      humidity     windspeed         count  \\\n",
       "count  10886.00000  10886.000000  10886.000000  10886.000000  10886.000000   \n",
       "mean      20.23086     23.655084     61.886460     12.799395    191.574132   \n",
       "std        7.79159      8.474601     19.245033      8.164537    181.144454   \n",
       "min        0.82000      0.760000      0.000000      0.000000      1.000000   \n",
       "25%       13.94000     16.665000     47.000000      7.001500     42.000000   \n",
       "50%       20.50000     24.240000     62.000000     12.998000    145.000000   \n",
       "75%       26.24000     31.060000     77.000000     16.997900    284.000000   \n",
       "max       41.00000     45.455000    100.000000     56.996900    977.000000   \n",
       "\n",
       "              month           day          hour  \n",
       "count  10886.000000  10886.000000  10886.000000  \n",
       "mean       6.521495      9.992559     11.541613  \n",
       "std        3.444373      5.476608      6.915838  \n",
       "min        1.000000      1.000000      0.000000  \n",
       "25%        4.000000      5.000000      6.000000  \n",
       "50%        7.000000     10.000000     12.000000  \n",
       "75%       10.000000     15.000000     18.000000  \n",
       "max       12.000000     19.000000     23.000000  "
      ]
     },
     "execution_count": 14,
     "metadata": {},
     "output_type": "execute_result"
    }
   ],
   "source": [
    "df.describe()"
   ]
  },
  {
   "cell_type": "markdown",
   "metadata": {},
   "source": [
    "Nous remarquons ainsi que les acquisitions ont lieu du 1 au 19 de chaque mois.\n",
    "Nous allons supprimer cette variable car les variables *holiday* et *workingday* apportent plus d'informations dans le cadre de cette problématique que la variable *day* qui ne porte pas d'informations utiles."
   ]
  },
  {
   "cell_type": "code",
   "execution_count": 15,
   "metadata": {},
   "outputs": [],
   "source": [
    "# Supression de la variable \"day\"\n",
    "df = df.drop([\"day\"], axis=1)"
   ]
  },
  {
   "cell_type": "code",
   "execution_count": 16,
   "metadata": {},
   "outputs": [
    {
     "data": {
      "text/plain": [
       "season        category\n",
       "holiday       category\n",
       "workingday    category\n",
       "weather       category\n",
       "temp           float64\n",
       "atemp          float64\n",
       "humidity         int64\n",
       "windspeed      float64\n",
       "count            int64\n",
       "month            int64\n",
       "hour             int64\n",
       "dtype: object"
      ]
     },
     "execution_count": 16,
     "metadata": {},
     "output_type": "execute_result"
    }
   ],
   "source": [
    "df.dtypes"
   ]
  },
  {
   "cell_type": "markdown",
   "metadata": {},
   "source": [
    "Les deux nouvelles variables explicatives sont au format 'int64' : nous allons garder ce format pour la suite."
   ]
  },
  {
   "cell_type": "markdown",
   "metadata": {},
   "source": [
    "## Exploration des données"
   ]
  },
  {
   "cell_type": "markdown",
   "metadata": {},
   "source": [
    "### 1. Exploration univariée\n",
    "\n",
    "Une exploration univariée nous permettra d'obtenir davantage d'informations sur nos différentes variables explicatives.\n",
    "\n",
    "Notamment au niveau de potentiels déséquilibres dans la représantativité sur notre jeu de données.\n",
    "\n",
    "Commençons par explorer les variables catégorielles en traçant des diagrammes en barre. Nous allons en ordonnée représenter la fréquence d'apparition en pourcentage."
   ]
  },
  {
   "cell_type": "markdown",
   "metadata": {},
   "source": [
    "#### Variables catégorielles"
   ]
  },
  {
   "cell_type": "code",
   "execution_count": 17,
   "metadata": {},
   "outputs": [
    {
     "data": {
      "image/png": "[encoded data removed]",
      "text/plain": [
       "<Figure size 432x288 with 1 Axes>"
      ]
     },
     "metadata": {
      "needs_background": "light"
     },
     "output_type": "display_data"
    },
    {
     "data": {
      "image/png": "[encoded data removed]",
      "text/plain": [
       "<Figure size 432x288 with 1 Axes>"
      ]
     },
     "metadata": {
      "needs_background": "light"
     },
     "output_type": "display_data"
    },
    {
     "data": {
      "image/png": "[encoded data removed]",
      "text/plain": [
       "<Figure size 432x288 with 1 Axes>"
      ]
     },
     "metadata": {
      "needs_background": "light"
     },
     "output_type": "display_data"
    },
    {
     "data": {
      "image/png": "[encoded data removed]",
      "text/plain": [
       "<Figure size 432x288 with 1 Axes>"
      ]
     },
     "metadata": {
      "needs_background": "light"
     },
     "output_type": "display_data"
    }
   ],
   "source": [
    "for colname, serie in df.iteritems():\n",
    "    if serie.dtype.name is 'category':\n",
    "        (100*serie.value_counts()/df.shape[0]).plot(kind=\"bar\")\n",
    "        plt.title(colname)\n",
    "        plt.xlabel(colname)\n",
    "        plt.ylabel(\"Pourcentage\")\n",
    "        plt.show()"
   ]
  },
  {
   "cell_type": "code",
   "execution_count": 18,
   "metadata": {},
   "outputs": [
    {
     "data": {
      "text/plain": [
       "0    97.14\n",
       "1     2.86\n",
       "Name: holiday, dtype: float64"
      ]
     },
     "execution_count": 18,
     "metadata": {},
     "output_type": "execute_result"
    }
   ],
   "source": [
    "# Pourcentage d'apparition de chaque valeur de la variable \"holiday\"\n",
    "round(100*df.holiday.value_counts()/ df.shape[0],2)"
   ]
  },
  {
   "cell_type": "code",
   "execution_count": 19,
   "metadata": {},
   "outputs": [
    {
     "data": {
      "text/plain": [
       "1    7192\n",
       "2    2834\n",
       "3     859\n",
       "4       1\n",
       "Name: weather, dtype: int64"
      ]
     },
     "execution_count": 19,
     "metadata": {},
     "output_type": "execute_result"
    }
   ],
   "source": [
    "# Nombre apparition de chaque valeur de la variable \"weather\"\n",
    "df.weather.value_counts()"
   ]
  },
  {
   "cell_type": "markdown",
   "metadata": {},
   "source": [
    "Nous pouvons effectuer 2 observations : \n",
    "\n",
    "   • Variable *holiday* : il y'a un très fort désequilibre entre les deux valeurs -> Cela était en effet attendu, le nombre de jours de vacances étant relativement faible par rapport au nombre de jours dans l'année. Malgré ce déséquilibre, nous pouvons intuiter et partir du postulat que cette variable a un pouvoir explicatif fort. Nous vérifierons cela lors de l'analyse bivariée.\n",
    "    \n",
    "   • Variable *weather* : la valeur 4 n'apparrait qu'une seule fois -> Nous pouvons nous demander s'il est pertinent de garder la ligne contenant cette valeur. Nous allons supprimer la ligne en question via la commande ci-dessous."
   ]
  },
  {
   "cell_type": "code",
   "execution_count": 20,
   "metadata": {},
   "outputs": [
    {
     "name": "stdout",
     "output_type": "stream",
     "text": [
      "[1, 2, 3]\n",
      "Categories (3, int64): [1, 2, 3]\n"
     ]
    }
   ],
   "source": [
    "i = df[((df.weather == 4))].index\n",
    "df = df.drop(i)\n",
    "df.weather =  df.weather.cat.remove_unused_categories()\n",
    "print(df.weather.unique())"
   ]
  },
  {
   "cell_type": "code",
   "execution_count": 21,
   "metadata": {},
   "outputs": [
    {
     "data": {
      "text/plain": [
       "(10885, 11)"
      ]
     },
     "execution_count": 21,
     "metadata": {},
     "output_type": "execute_result"
    }
   ],
   "source": [
    "# Nous vérifions que nous avons bien 10 885 lignes \n",
    "df.shape"
   ]
  },
  {
   "cell_type": "markdown",
   "metadata": {},
   "source": [
    "#### Variables non catégorielles"
   ]
  },
  {
   "cell_type": "code",
   "execution_count": 22,
   "metadata": {},
   "outputs": [
    {
     "data": {
      "image/png": "[encoded data removed]",
      "text/plain": [
       "<Figure size 432x288 with 1 Axes>"
      ]
     },
     "metadata": {
      "needs_background": "light"
     },
     "output_type": "display_data"
    },
    {
     "data": {
      "image/png": "[encoded data removed]",
      "text/plain": [
       "<Figure size 432x288 with 1 Axes>"
      ]
     },
     "metadata": {
      "needs_background": "light"
     },
     "output_type": "display_data"
    },
    {
     "data": {
      "image/png": "[encoded data removed]",
      "text/plain": [
       "<Figure size 432x288 with 1 Axes>"
      ]
     },
     "metadata": {
      "needs_background": "light"
     },
     "output_type": "display_data"
    },
    {
     "data": {
      "image/png": "[encoded data removed]",
      "text/plain": [
       "<Figure size 432x288 with 1 Axes>"
      ]
     },
     "metadata": {
      "needs_background": "light"
     },
     "output_type": "display_data"
    },
    {
     "data": {
      "image/png": "[encoded data removed]",
      "text/plain": [
       "<Figure size 432x288 with 1 Axes>"
      ]
     },
     "metadata": {
      "needs_background": "light"
     },
     "output_type": "display_data"
    },
    {
     "data": {
      "image/png": "[encoded data removed]",
      "text/plain": [
       "<Figure size 432x288 with 1 Axes>"
      ]
     },
     "metadata": {
      "needs_background": "light"
     },
     "output_type": "display_data"
    },
    {
     "data": {
      "image/png": "[encoded data removed]",
      "text/plain": [
       "<Figure size 432x288 with 1 Axes>"
      ]
     },
     "metadata": {
      "needs_background": "light"
     },
     "output_type": "display_data"
    }
   ],
   "source": [
    "for colname, serie in df.iteritems():\n",
    "    if serie.dtype.name is not 'category':\n",
    "        serie.hist(bins='auto')\n",
    "        plt.title(colname)\n",
    "        plt.xlabel(colname)\n",
    "        plt.ylabel(\"Count\")\n",
    "        plt.show()"
   ]
  },
  {
   "cell_type": "markdown",
   "metadata": {},
   "source": [
    "Suite à ces tracés, nous pouvons commenter plusieurs points :\n",
    "\n",
    "La variable *count* n'est pas distribuée selon une loi normale, ni centrée : comme nous l'avons vu précédemment, il y'a très peu de valeurs au dessus de la valeur 647. En cumulé, 97% des données se trouvent sous ce seuil.\n",
    "\n",
    "Les variables *temp* et *atemp* semblent suivre une même loi, comme intuitée au début de ce notebook."
   ]
  },
  {
   "cell_type": "markdown",
   "metadata": {},
   "source": [
    "### 2. Exploration bivariée\n"
   ]
  },
  {
   "cell_type": "markdown",
   "metadata": {},
   "source": [
    "L'exploration bivariée nous permet de représenter l'influence de chaque variable explicvative sur la variable cible."
   ]
  },
  {
   "cell_type": "markdown",
   "metadata": {},
   "source": [
    "#### Variables catégorielles\n"
   ]
  },
  {
   "cell_type": "code",
   "execution_count": 23,
   "metadata": {},
   "outputs": [
    {
     "data": {
      "image/png": "[encoded data removed]",
      "text/plain": [
       "<Figure size 432x288 with 1 Axes>"
      ]
     },
     "metadata": {
      "needs_background": "light"
     },
     "output_type": "display_data"
    }
   ],
   "source": [
    "sns.boxplot(x=\"holiday\", y=\"count\", data=df)\n",
    "plt.show()"
   ]
  },
  {
   "cell_type": "markdown",
   "metadata": {},
   "source": [
    "Il semble qu'il y'ait un nombre légèrement plus élevé de location de vélos lors des vacances."
   ]
  },
  {
   "cell_type": "code",
   "execution_count": 24,
   "metadata": {},
   "outputs": [
    {
     "data": {
      "image/png": "[encoded data removed]",
      "text/plain": [
       "<Figure size 432x288 with 1 Axes>"
      ]
     },
     "metadata": {
      "needs_background": "light"
     },
     "output_type": "display_data"
    }
   ],
   "source": [
    "sns.boxplot(x=\"season\", y=\"count\", data=df)\n",
    "plt.show()"
   ]
  },
  {
   "cell_type": "markdown",
   "metadata": {},
   "source": [
    "La saison influence le nombre de location de vélos : été > printemps > automne > hiver\n",
    "\n",
    "Cela correspond à ce que l'on pourrait à priori s'attendre. La saison corrèle généralement avec la température, l'humidité et la météo qui sont des facteurs essentiels pour le cycliste."
   ]
  },
  {
   "cell_type": "code",
   "execution_count": 25,
   "metadata": {},
   "outputs": [
    {
     "data": {
      "image/png": "[encoded data removed]",
      "text/plain": [
       "<Figure size 432x288 with 1 Axes>"
      ]
     },
     "metadata": {
      "needs_background": "light"
     },
     "output_type": "display_data"
    }
   ],
   "source": [
    "sns.boxplot(x=\"weather\", y=\"count\", data=df)\n",
    "plt.show()"
   ]
  },
  {
   "cell_type": "markdown",
   "metadata": {},
   "source": [
    "Plus la météo se dégrade, moins il y'a de location de vélos, ce qui semble logique."
   ]
  },
  {
   "cell_type": "code",
   "execution_count": 26,
   "metadata": {},
   "outputs": [
    {
     "data": {
      "image/png": "[encoded data removed]",
      "text/plain": [
       "<Figure size 432x288 with 1 Axes>"
      ]
     },
     "metadata": {
      "needs_background": "light"
     },
     "output_type": "display_data"
    }
   ],
   "source": [
    "sns.boxplot(x=\"workingday\", y=\"count\", data=df)\n",
    "plt.show()"
   ]
  },
  {
   "cell_type": "markdown",
   "metadata": {},
   "source": [
    "La moyenne est plus élevée lors des jours de travail, et la distribution plus concentrée : cela pourrait s'interpréter comme la régularité des personnes prenant le vélo comme moyen de locomotion de leur domicile vers leur lieu de travail."
   ]
  },
  {
   "cell_type": "markdown",
   "metadata": {},
   "source": [
    "#### Variables non catégorielles\n"
   ]
  },
  {
   "cell_type": "code",
   "execution_count": 27,
   "metadata": {},
   "outputs": [
    {
     "data": {
      "image/png": "[encoded data removed]",
      "text/plain": [
       "<Figure size 432x288 with 1 Axes>"
      ]
     },
     "metadata": {
      "needs_background": "light"
     },
     "output_type": "display_data"
    }
   ],
   "source": [
    "sns.boxplot(x=\"hour\", y=\"count\", data=df)\n",
    "plt.show()"
   ]
  },
  {
   "cell_type": "markdown",
   "metadata": {},
   "source": [
    "Le nombre de location de vélos est répartie dans une journée avec deux périodes pleines et deux creuses.\n",
    "\n",
    "En effet, de 7h à 9h, et de 16h à 19h, nous atteignons deux pics. Nous pouvons l'interpréter comme les heures de pointe où les utilisateurs se rendent de leur domicile à leur lieu de travail, et vice-versa.\n",
    "\n",
    "Cette interprétation est renforcée par le fait que 70% du jeu de données correspond à des mesures lors d'une journée travaillée."
   ]
  },
  {
   "cell_type": "code",
   "execution_count": 28,
   "metadata": {},
   "outputs": [
    {
     "data": {
      "image/png": "[encoded data removed]",
      "text/plain": [
       "<Figure size 432x288 with 1 Axes>"
      ]
     },
     "metadata": {
      "needs_background": "light"
     },
     "output_type": "display_data"
    }
   ],
   "source": [
    "sns.boxplot(x=\"temp\", y=\"count\", data=df)\n",
    "plt.show()"
   ]
  },
  {
   "cell_type": "markdown",
   "metadata": {},
   "source": [
    "Le nombre de locations de vélo en fonction de la température semble suivre une loi linéaire, ce qui semble normale. Le froid est un facteur dissuassif de l'utilisation du vélo."
   ]
  },
  {
   "cell_type": "code",
   "execution_count": 29,
   "metadata": {},
   "outputs": [
    {
     "data": {
      "image/png": "[encoded data removed]",
      "text/plain": [
       "<Figure size 432x288 with 1 Axes>"
      ]
     },
     "metadata": {
      "needs_background": "light"
     },
     "output_type": "display_data"
    }
   ],
   "source": [
    "sns.boxplot(x=\"humidity\", y=\"count\", data=df)\n",
    "plt.show()"
   ]
  },
  {
   "cell_type": "markdown",
   "metadata": {},
   "source": [
    "Le nombre de locations de vélo en fonction de l'humidité semble également suivre une loi linéaire : plus l'humidité est élevée et moins le vélo est utilisé. Cela correspond également au bon sens physique que nous pouvons associer à cette augmentation de l'humidité sur l'agréabilité de l'utilisation du vélo."
   ]
  },
  {
   "cell_type": "markdown",
   "metadata": {},
   "source": [
    "### 3. Exploration multivariée\n",
    "\n",
    "L'exploration multivariée est essentielle afin de nous représenter les corrélations 2 à 2 des différentes variables, et l'influence de ces corrélations sur la variable cible."
   ]
  },
  {
   "cell_type": "code",
   "execution_count": 30,
   "metadata": {},
   "outputs": [
    {
     "data": {
      "image/png": "[encoded data removed]",
      "text/plain": [
       "<Figure size 432x288 with 1 Axes>"
      ]
     },
     "metadata": {
      "needs_background": "light"
     },
     "output_type": "display_data"
    }
   ],
   "source": [
    "sns.boxplot(x=\"weather\", y=\"count\", hue=\"season\", data=df)\n",
    "plt.show()"
   ]
  },
  {
   "cell_type": "markdown",
   "metadata": {},
   "source": [
    "Nous pouvons visualiser le nombre de location de vélos suit une même loi entre les différentes saisons, et que la météo est un facteur multiplicateur de ce nombre de location."
   ]
  },
  {
   "cell_type": "markdown",
   "metadata": {},
   "source": [
    "Penchons-nous sur la corrélations des différentes variables continues."
   ]
  },
  {
   "cell_type": "code",
   "execution_count": 31,
   "metadata": {},
   "outputs": [
    {
     "data": {
      "text/html": [
       "<div>\n",
       "<style scoped>\n",
       "    .dataframe tbody tr th:only-of-type {\n",
       "        vertical-align: middle;\n",
       "    }\n",
       "\n",
       "    .dataframe tbody tr th {\n",
       "        vertical-align: top;\n",
       "    }\n",
       "\n",
       "    .dataframe thead th {\n",
       "        text-align: right;\n",
       "    }\n",
       "</style>\n",
       "<table border=\"1\" class=\"dataframe\">\n",
       "  <thead>\n",
       "    <tr style=\"text-align: right;\">\n",
       "      <th></th>\n",
       "      <th>temp</th>\n",
       "      <th>atemp</th>\n",
       "      <th>humidity</th>\n",
       "      <th>windspeed</th>\n",
       "      <th>count</th>\n",
       "      <th>month</th>\n",
       "      <th>hour</th>\n",
       "    </tr>\n",
       "  </thead>\n",
       "  <tbody>\n",
       "    <tr>\n",
       "      <th>temp</th>\n",
       "      <td>1.000000</td>\n",
       "      <td>0.984945</td>\n",
       "      <td>-0.064783</td>\n",
       "      <td>-0.017973</td>\n",
       "      <td>0.394476</td>\n",
       "      <td>0.257420</td>\n",
       "      <td>0.145584</td>\n",
       "    </tr>\n",
       "    <tr>\n",
       "      <th>atemp</th>\n",
       "      <td>0.984945</td>\n",
       "      <td>1.000000</td>\n",
       "      <td>-0.043376</td>\n",
       "      <td>-0.057591</td>\n",
       "      <td>0.389802</td>\n",
       "      <td>0.264016</td>\n",
       "      <td>0.140486</td>\n",
       "    </tr>\n",
       "    <tr>\n",
       "      <th>humidity</th>\n",
       "      <td>-0.064783</td>\n",
       "      <td>-0.043376</td>\n",
       "      <td>1.000000</td>\n",
       "      <td>-0.318544</td>\n",
       "      <td>-0.317377</td>\n",
       "      <td>0.204760</td>\n",
       "      <td>-0.278150</td>\n",
       "    </tr>\n",
       "    <tr>\n",
       "      <th>windspeed</th>\n",
       "      <td>-0.017973</td>\n",
       "      <td>-0.057591</td>\n",
       "      <td>-0.318544</td>\n",
       "      <td>1.000000</td>\n",
       "      <td>0.101361</td>\n",
       "      <td>-0.150337</td>\n",
       "      <td>0.146713</td>\n",
       "    </tr>\n",
       "    <tr>\n",
       "      <th>count</th>\n",
       "      <td>0.394476</td>\n",
       "      <td>0.389802</td>\n",
       "      <td>-0.317377</td>\n",
       "      <td>0.101361</td>\n",
       "      <td>1.000000</td>\n",
       "      <td>0.166860</td>\n",
       "      <td>0.400631</td>\n",
       "    </tr>\n",
       "    <tr>\n",
       "      <th>month</th>\n",
       "      <td>0.257420</td>\n",
       "      <td>0.264016</td>\n",
       "      <td>0.204760</td>\n",
       "      <td>-0.150337</td>\n",
       "      <td>0.166860</td>\n",
       "      <td>1.000000</td>\n",
       "      <td>-0.006681</td>\n",
       "    </tr>\n",
       "    <tr>\n",
       "      <th>hour</th>\n",
       "      <td>0.145584</td>\n",
       "      <td>0.140486</td>\n",
       "      <td>-0.278150</td>\n",
       "      <td>0.146713</td>\n",
       "      <td>0.400631</td>\n",
       "      <td>-0.006681</td>\n",
       "      <td>1.000000</td>\n",
       "    </tr>\n",
       "  </tbody>\n",
       "</table>\n",
       "</div>"
      ],
      "text/plain": [
       "               temp     atemp  humidity  windspeed     count     month  \\\n",
       "temp       1.000000  0.984945 -0.064783  -0.017973  0.394476  0.257420   \n",
       "atemp      0.984945  1.000000 -0.043376  -0.057591  0.389802  0.264016   \n",
       "humidity  -0.064783 -0.043376  1.000000  -0.318544 -0.317377  0.204760   \n",
       "windspeed -0.017973 -0.057591 -0.318544   1.000000  0.101361 -0.150337   \n",
       "count      0.394476  0.389802 -0.317377   0.101361  1.000000  0.166860   \n",
       "month      0.257420  0.264016  0.204760  -0.150337  0.166860  1.000000   \n",
       "hour       0.145584  0.140486 -0.278150   0.146713  0.400631 -0.006681   \n",
       "\n",
       "               hour  \n",
       "temp       0.145584  \n",
       "atemp      0.140486  \n",
       "humidity  -0.278150  \n",
       "windspeed  0.146713  \n",
       "count      0.400631  \n",
       "month     -0.006681  \n",
       "hour       1.000000  "
      ]
     },
     "execution_count": 31,
     "metadata": {},
     "output_type": "execute_result"
    }
   ],
   "source": [
    "df.corr()"
   ]
  },
  {
   "cell_type": "code",
   "execution_count": 32,
   "metadata": {},
   "outputs": [
    {
     "data": {
      "image/png": "[encoded data removed]",
      "text/plain": [
       "<Figure size 432x288 with 2 Axes>"
      ]
     },
     "metadata": {
      "needs_background": "light"
     },
     "output_type": "display_data"
    }
   ],
   "source": [
    "sns.heatmap(df.corr(), cmap=\"YlOrRd\", annot=True)\n",
    "plt.title(\"Corrélation des variables continues\")\n",
    "plt.show()"
   ]
  },
  {
   "cell_type": "markdown",
   "metadata": {},
   "source": [
    "Comme remarqué depuis le début de l'exercice, les variables *temp* et *atemp* sont très fortement corrélés et contiennent donc le même pouvoir explicatif sur la variable cible.\n",
    "\n",
    "Nous allons donc supprimer la variable *atemp*.\n",
    "\n",
    "Les variables les plus corrélées à notre variable cible sont les suivantes : *hour*, *temp* et *humidity*. Leur corrélation est inférieure à 0.8, elles sont donc toutes intéressantes pour expliquer la variable cible."
   ]
  },
  {
   "cell_type": "markdown",
   "metadata": {},
   "source": [
    "# Preprocessing pour scikit-learn\n",
    "\n",
    "Nous allons préparer le jeu de données pour qu'il soit exploitable dans la phase d'entrainement et de test des modèles.\n",
    "\n",
    "Le principal point d'attention concerne les variables catégorielles. "
   ]
  },
  {
   "cell_type": "code",
   "execution_count": 33,
   "metadata": {},
   "outputs": [
    {
     "name": "stdout",
     "output_type": "stream",
     "text": [
      "['season', 'holiday', 'workingday', 'weather']\n"
     ]
    }
   ],
   "source": [
    "categorical_features = df.columns[df.dtypes == \"category\"].tolist()\n",
    "print(categorical_features)"
   ]
  },
  {
   "cell_type": "code",
   "execution_count": 34,
   "metadata": {},
   "outputs": [
    {
     "data": {
      "text/html": [
       "<div>\n",
       "<style scoped>\n",
       "    .dataframe tbody tr th:only-of-type {\n",
       "        vertical-align: middle;\n",
       "    }\n",
       "\n",
       "    .dataframe tbody tr th {\n",
       "        vertical-align: top;\n",
       "    }\n",
       "\n",
       "    .dataframe thead th {\n",
       "        text-align: right;\n",
       "    }\n",
       "</style>\n",
       "<table border=\"1\" class=\"dataframe\">\n",
       "  <thead>\n",
       "    <tr style=\"text-align: right;\">\n",
       "      <th></th>\n",
       "      <th>season</th>\n",
       "      <th>holiday</th>\n",
       "      <th>workingday</th>\n",
       "      <th>weather</th>\n",
       "    </tr>\n",
       "  </thead>\n",
       "  <tbody>\n",
       "    <tr>\n",
       "      <th>3709</th>\n",
       "      <td>3</td>\n",
       "      <td>1</td>\n",
       "      <td>0</td>\n",
       "      <td>2</td>\n",
       "    </tr>\n",
       "    <tr>\n",
       "      <th>6741</th>\n",
       "      <td>1</td>\n",
       "      <td>0</td>\n",
       "      <td>0</td>\n",
       "      <td>2</td>\n",
       "    </tr>\n",
       "    <tr>\n",
       "      <th>9848</th>\n",
       "      <td>4</td>\n",
       "      <td>0</td>\n",
       "      <td>0</td>\n",
       "      <td>1</td>\n",
       "    </tr>\n",
       "    <tr>\n",
       "      <th>1410</th>\n",
       "      <td>2</td>\n",
       "      <td>0</td>\n",
       "      <td>1</td>\n",
       "      <td>1</td>\n",
       "    </tr>\n",
       "    <tr>\n",
       "      <th>10672</th>\n",
       "      <td>4</td>\n",
       "      <td>0</td>\n",
       "      <td>1</td>\n",
       "      <td>2</td>\n",
       "    </tr>\n",
       "  </tbody>\n",
       "</table>\n",
       "</div>"
      ],
      "text/plain": [
       "      season holiday workingday weather\n",
       "3709       3       1          0       2\n",
       "6741       1       0          0       2\n",
       "9848       4       0          0       1\n",
       "1410       2       0          1       1\n",
       "10672      4       0          1       2"
      ]
     },
     "execution_count": 34,
     "metadata": {},
     "output_type": "execute_result"
    }
   ],
   "source": [
    "df[categorical_features].sample(5, random_state=1)"
   ]
  },
  {
   "cell_type": "code",
   "execution_count": 35,
   "metadata": {},
   "outputs": [
    {
     "data": {
      "text/html": [
       "<div>\n",
       "<style scoped>\n",
       "    .dataframe tbody tr th:only-of-type {\n",
       "        vertical-align: middle;\n",
       "    }\n",
       "\n",
       "    .dataframe tbody tr th {\n",
       "        vertical-align: top;\n",
       "    }\n",
       "\n",
       "    .dataframe thead th {\n",
       "        text-align: right;\n",
       "    }\n",
       "</style>\n",
       "<table border=\"1\" class=\"dataframe\">\n",
       "  <thead>\n",
       "    <tr style=\"text-align: right;\">\n",
       "      <th></th>\n",
       "      <th>season_1</th>\n",
       "      <th>season_2</th>\n",
       "      <th>season_3</th>\n",
       "      <th>season_4</th>\n",
       "      <th>holiday_0</th>\n",
       "      <th>holiday_1</th>\n",
       "      <th>workingday_0</th>\n",
       "      <th>workingday_1</th>\n",
       "      <th>weather_1</th>\n",
       "      <th>weather_2</th>\n",
       "      <th>weather_3</th>\n",
       "    </tr>\n",
       "  </thead>\n",
       "  <tbody>\n",
       "    <tr>\n",
       "      <th>0</th>\n",
       "      <td>1</td>\n",
       "      <td>0</td>\n",
       "      <td>0</td>\n",
       "      <td>0</td>\n",
       "      <td>1</td>\n",
       "      <td>0</td>\n",
       "      <td>1</td>\n",
       "      <td>0</td>\n",
       "      <td>1</td>\n",
       "      <td>0</td>\n",
       "      <td>0</td>\n",
       "    </tr>\n",
       "    <tr>\n",
       "      <th>1</th>\n",
       "      <td>1</td>\n",
       "      <td>0</td>\n",
       "      <td>0</td>\n",
       "      <td>0</td>\n",
       "      <td>1</td>\n",
       "      <td>0</td>\n",
       "      <td>1</td>\n",
       "      <td>0</td>\n",
       "      <td>1</td>\n",
       "      <td>0</td>\n",
       "      <td>0</td>\n",
       "    </tr>\n",
       "    <tr>\n",
       "      <th>2</th>\n",
       "      <td>1</td>\n",
       "      <td>0</td>\n",
       "      <td>0</td>\n",
       "      <td>0</td>\n",
       "      <td>1</td>\n",
       "      <td>0</td>\n",
       "      <td>1</td>\n",
       "      <td>0</td>\n",
       "      <td>1</td>\n",
       "      <td>0</td>\n",
       "      <td>0</td>\n",
       "    </tr>\n",
       "    <tr>\n",
       "      <th>3</th>\n",
       "      <td>1</td>\n",
       "      <td>0</td>\n",
       "      <td>0</td>\n",
       "      <td>0</td>\n",
       "      <td>1</td>\n",
       "      <td>0</td>\n",
       "      <td>1</td>\n",
       "      <td>0</td>\n",
       "      <td>1</td>\n",
       "      <td>0</td>\n",
       "      <td>0</td>\n",
       "    </tr>\n",
       "    <tr>\n",
       "      <th>4</th>\n",
       "      <td>1</td>\n",
       "      <td>0</td>\n",
       "      <td>0</td>\n",
       "      <td>0</td>\n",
       "      <td>1</td>\n",
       "      <td>0</td>\n",
       "      <td>1</td>\n",
       "      <td>0</td>\n",
       "      <td>1</td>\n",
       "      <td>0</td>\n",
       "      <td>0</td>\n",
       "    </tr>\n",
       "  </tbody>\n",
       "</table>\n",
       "</div>"
      ],
      "text/plain": [
       "   season_1  season_2  season_3  season_4  holiday_0  holiday_1  workingday_0  \\\n",
       "0         1         0         0         0          1          0             1   \n",
       "1         1         0         0         0          1          0             1   \n",
       "2         1         0         0         0          1          0             1   \n",
       "3         1         0         0         0          1          0             1   \n",
       "4         1         0         0         0          1          0             1   \n",
       "\n",
       "   workingday_1  weather_1  weather_2  weather_3  \n",
       "0             0          1          0          0  \n",
       "1             0          1          0          0  \n",
       "2             0          1          0          0  \n",
       "3             0          1          0          0  \n",
       "4             0          1          0          0  "
      ]
     },
     "execution_count": 35,
     "metadata": {},
     "output_type": "execute_result"
    }
   ],
   "source": [
    "df_dummies = pd.get_dummies(df[categorical_features])\n",
    "df_dummies.head()"
   ]
  },
  {
   "cell_type": "code",
   "execution_count": 36,
   "metadata": {},
   "outputs": [
    {
     "data": {
      "text/html": [
       "<div>\n",
       "<style scoped>\n",
       "    .dataframe tbody tr th:only-of-type {\n",
       "        vertical-align: middle;\n",
       "    }\n",
       "\n",
       "    .dataframe tbody tr th {\n",
       "        vertical-align: top;\n",
       "    }\n",
       "\n",
       "    .dataframe thead th {\n",
       "        text-align: right;\n",
       "    }\n",
       "</style>\n",
       "<table border=\"1\" class=\"dataframe\">\n",
       "  <thead>\n",
       "    <tr style=\"text-align: right;\">\n",
       "      <th></th>\n",
       "      <th>temp</th>\n",
       "      <th>atemp</th>\n",
       "      <th>humidity</th>\n",
       "      <th>windspeed</th>\n",
       "      <th>count</th>\n",
       "      <th>month</th>\n",
       "      <th>hour</th>\n",
       "      <th>season_1</th>\n",
       "      <th>season_2</th>\n",
       "      <th>season_3</th>\n",
       "      <th>season_4</th>\n",
       "      <th>holiday_0</th>\n",
       "      <th>holiday_1</th>\n",
       "      <th>workingday_0</th>\n",
       "      <th>workingday_1</th>\n",
       "      <th>weather_1</th>\n",
       "      <th>weather_2</th>\n",
       "      <th>weather_3</th>\n",
       "    </tr>\n",
       "  </thead>\n",
       "  <tbody>\n",
       "    <tr>\n",
       "      <th>3709</th>\n",
       "      <td>28.70</td>\n",
       "      <td>33.335</td>\n",
       "      <td>74</td>\n",
       "      <td>11.0014</td>\n",
       "      <td>308</td>\n",
       "      <td>9</td>\n",
       "      <td>11</td>\n",
       "      <td>0</td>\n",
       "      <td>0</td>\n",
       "      <td>1</td>\n",
       "      <td>0</td>\n",
       "      <td>0</td>\n",
       "      <td>1</td>\n",
       "      <td>1</td>\n",
       "      <td>0</td>\n",
       "      <td>0</td>\n",
       "      <td>1</td>\n",
       "      <td>0</td>\n",
       "    </tr>\n",
       "    <tr>\n",
       "      <th>6741</th>\n",
       "      <td>17.22</td>\n",
       "      <td>21.210</td>\n",
       "      <td>94</td>\n",
       "      <td>11.0014</td>\n",
       "      <td>14</td>\n",
       "      <td>3</td>\n",
       "      <td>4</td>\n",
       "      <td>1</td>\n",
       "      <td>0</td>\n",
       "      <td>0</td>\n",
       "      <td>0</td>\n",
       "      <td>1</td>\n",
       "      <td>0</td>\n",
       "      <td>1</td>\n",
       "      <td>0</td>\n",
       "      <td>0</td>\n",
       "      <td>1</td>\n",
       "      <td>0</td>\n",
       "    </tr>\n",
       "    <tr>\n",
       "      <th>9848</th>\n",
       "      <td>26.24</td>\n",
       "      <td>31.060</td>\n",
       "      <td>44</td>\n",
       "      <td>12.9980</td>\n",
       "      <td>539</td>\n",
       "      <td>10</td>\n",
       "      <td>17</td>\n",
       "      <td>0</td>\n",
       "      <td>0</td>\n",
       "      <td>0</td>\n",
       "      <td>1</td>\n",
       "      <td>1</td>\n",
       "      <td>0</td>\n",
       "      <td>1</td>\n",
       "      <td>0</td>\n",
       "      <td>1</td>\n",
       "      <td>0</td>\n",
       "      <td>0</td>\n",
       "    </tr>\n",
       "    <tr>\n",
       "      <th>1410</th>\n",
       "      <td>31.16</td>\n",
       "      <td>33.335</td>\n",
       "      <td>23</td>\n",
       "      <td>36.9974</td>\n",
       "      <td>143</td>\n",
       "      <td>4</td>\n",
       "      <td>15</td>\n",
       "      <td>0</td>\n",
       "      <td>1</td>\n",
       "      <td>0</td>\n",
       "      <td>0</td>\n",
       "      <td>1</td>\n",
       "      <td>0</td>\n",
       "      <td>0</td>\n",
       "      <td>1</td>\n",
       "      <td>1</td>\n",
       "      <td>0</td>\n",
       "      <td>0</td>\n",
       "    </tr>\n",
       "    <tr>\n",
       "      <th>10672</th>\n",
       "      <td>16.40</td>\n",
       "      <td>20.455</td>\n",
       "      <td>66</td>\n",
       "      <td>22.0028</td>\n",
       "      <td>1</td>\n",
       "      <td>12</td>\n",
       "      <td>2</td>\n",
       "      <td>0</td>\n",
       "      <td>0</td>\n",
       "      <td>0</td>\n",
       "      <td>1</td>\n",
       "      <td>1</td>\n",
       "      <td>0</td>\n",
       "      <td>0</td>\n",
       "      <td>1</td>\n",
       "      <td>0</td>\n",
       "      <td>1</td>\n",
       "      <td>0</td>\n",
       "    </tr>\n",
       "  </tbody>\n",
       "</table>\n",
       "</div>"
      ],
      "text/plain": [
       "        temp   atemp  humidity  windspeed  count  month  hour  season_1  \\\n",
       "3709   28.70  33.335        74    11.0014    308      9    11         0   \n",
       "6741   17.22  21.210        94    11.0014     14      3     4         1   \n",
       "9848   26.24  31.060        44    12.9980    539     10    17         0   \n",
       "1410   31.16  33.335        23    36.9974    143      4    15         0   \n",
       "10672  16.40  20.455        66    22.0028      1     12     2         0   \n",
       "\n",
       "       season_2  season_3  season_4  holiday_0  holiday_1  workingday_0  \\\n",
       "3709          0         1         0          0          1             1   \n",
       "6741          0         0         0          1          0             1   \n",
       "9848          0         0         1          1          0             1   \n",
       "1410          1         0         0          1          0             0   \n",
       "10672         0         0         1          1          0             0   \n",
       "\n",
       "       workingday_1  weather_1  weather_2  weather_3  \n",
       "3709              0          0          1          0  \n",
       "6741              0          0          1          0  \n",
       "9848              0          1          0          0  \n",
       "1410              1          1          0          0  \n",
       "10672             1          0          1          0  "
      ]
     },
     "execution_count": 36,
     "metadata": {},
     "output_type": "execute_result"
    }
   ],
   "source": [
    "# on concatène ensuite avec le dataset original\n",
    "df = pd.concat([df.drop(categorical_features, axis=1), df_dummies], axis=1)\n",
    "df.sample(5, random_state=1)"
   ]
  },
  {
   "cell_type": "code",
   "execution_count": 37,
   "metadata": {},
   "outputs": [],
   "source": [
    "X = df.drop([\"count\"], axis=1)\n",
    "y = df[\"count\"]"
   ]
  },
  {
   "cell_type": "code",
   "execution_count": 38,
   "metadata": {},
   "outputs": [
    {
     "name": "stdout",
     "output_type": "stream",
     "text": [
      "(10885, 17)\n"
     ]
    }
   ],
   "source": [
    "print(X.shape)"
   ]
  },
  {
   "cell_type": "markdown",
   "metadata": {},
   "source": [
    "Nous avons ici créé des variables indicatrices pour chaque variable catégorielles.\n",
    "Notre jeu contient désormais 17 variables explicatives en prenant en compte ces variables indicatrices."
   ]
  },
  {
   "cell_type": "markdown",
   "metadata": {},
   "source": [
    "# Choix et entrainement de modèles d'apprentissage supervisé\n"
   ]
  },
  {
   "cell_type": "code",
   "execution_count": 39,
   "metadata": {},
   "outputs": [
    {
     "name": "stdout",
     "output_type": "stream",
     "text": [
      "Train dimension : (8708, 17)\n",
      "Test dimension : (2177, 17)\n"
     ]
    }
   ],
   "source": [
    "from sklearn.model_selection import train_test_split\n",
    "from pylab import rcParams\n",
    "X_train, X_test, y_train, y_test = train_test_split(X, y, test_size=0.2, random_state = 1 )\n",
    "print(\"Train dimension :\", X_train.shape)\n",
    "print(\"Test dimension :\", X_test.shape)"
   ]
  },
  {
   "cell_type": "markdown",
   "metadata": {},
   "source": [
    "## Un modèle de base : la régression linéaire\n",
    "\n",
    "### Régression linéaire simple\n"
   ]
  },
  {
   "cell_type": "code",
   "execution_count": 40,
   "metadata": {},
   "outputs": [],
   "source": [
    "from sklearn.linear_model import LinearRegression\n",
    "reg = LinearRegression().fit(X_train, y_train)\n",
    "pred_train = reg.predict(X_train)\n",
    "pred_test = reg.predict(X_test)"
   ]
  },
  {
   "cell_type": "code",
   "execution_count": 41,
   "metadata": {},
   "outputs": [
    {
     "name": "stdout",
     "output_type": "stream",
     "text": [
      "Le score du jeu d'entrainement est de : 0.35\n",
      "Le score du jeu de test est de : 0.33\n"
     ]
    }
   ],
   "source": [
    "print(\"Le score du jeu d'entrainement est de : {:.2f}\".format(reg.score(X_train, y_train)))\n",
    "print(\"Le score du jeu de test est de : {:.2f}\".format(reg.score(X_test, y_test)))"
   ]
  },
  {
   "cell_type": "code",
   "execution_count": 42,
   "metadata": {},
   "outputs": [
    {
     "data": {
      "image/png": "[encoded data removed]",
      "text/plain": [
       "<Figure size 432x288 with 1 Axes>"
      ]
     },
     "metadata": {
      "needs_background": "light"
     },
     "output_type": "display_data"
    }
   ],
   "source": [
    "abscisse = np.linspace(0,1000,1000)\n",
    "ordonnee = abscisse\n",
    "pred_test = reg.predict(X_test)\n",
    "plt.scatter(y_test,pred_test)\n",
    "plt.xlabel('y_test')\n",
    "plt.ylabel('pred_test')\n",
    "plt.title('pred_test en fonction de y_test')\n",
    "plt.plot(abscisse,ordonnee, color='red')\n",
    "plt.rcParams[\"figure.figsize\"] = [10,9]"
   ]
  },
  {
   "cell_type": "markdown",
   "metadata": {},
   "source": [
    "Le score est très faible sur ce modèle de régression linéaire simple.\n",
    "\n",
    "Après avoir tracé la courbe du label prédit en fonction du vrai label sur le jeu de test, nous pouvons remarqué que les valeurs considérées comme des 'outliers' sont très sous-estimés : le modèle dérive complètement notamment à cause de ces valeurs.\n",
    "\n",
    "Remarquons également que le modèle nous renvoie des valeurs négatives pour un comptage, ce qui n'a pas de sens.\n",
    "\n",
    "Testons alors ce même modèle en enlevant les 3 % du jeu de données considérées comme des 'outliers' "
   ]
  },
  {
   "cell_type": "markdown",
   "metadata": {},
   "source": [
    "### Régression linéaire simple en ne considérant plus les 'outliers'\n",
    "\n",
    "Supprimons les 'outliers' de notre jeu de données"
   ]
  },
  {
   "cell_type": "code",
   "execution_count": 43,
   "metadata": {},
   "outputs": [
    {
     "data": {
      "text/plain": [
       "(10582, 17)"
      ]
     },
     "execution_count": 43,
     "metadata": {},
     "output_type": "execute_result"
    }
   ],
   "source": [
    "X = df.drop([\"count\"], axis=1)\n",
    "X= X.drop(df[df['count'] >= seuil].index)\n",
    "X.shape"
   ]
  },
  {
   "cell_type": "code",
   "execution_count": 44,
   "metadata": {},
   "outputs": [
    {
     "data": {
      "text/plain": [
       "(10582,)"
      ]
     },
     "execution_count": 44,
     "metadata": {},
     "output_type": "execute_result"
    }
   ],
   "source": [
    "y = df[\"count\"]\n",
    "y = y.drop(df[df['count'] >= seuil].index)\n",
    "y.shape"
   ]
  },
  {
   "cell_type": "markdown",
   "metadata": {},
   "source": [
    "Maintenant, refaisons un split avec le même seed que précédemment : le jeu de données étant réduit, nous n'aurons pas tout à fait les mêmes données."
   ]
  },
  {
   "cell_type": "code",
   "execution_count": 45,
   "metadata": {},
   "outputs": [],
   "source": [
    "X_train, X_test, y_train, y_test = train_test_split(X, y, test_size=0.2, random_state = 1 )"
   ]
  },
  {
   "cell_type": "code",
   "execution_count": 46,
   "metadata": {},
   "outputs": [],
   "source": [
    "reg = LinearRegression().fit(X_train, y_train)\n",
    "pred_train = reg.predict(X_train)\n",
    "pred_test = reg.predict(X_test)"
   ]
  },
  {
   "cell_type": "code",
   "execution_count": 47,
   "metadata": {},
   "outputs": [
    {
     "name": "stdout",
     "output_type": "stream",
     "text": [
      "Le score du jeu d'entrainement est de : 0.37\n",
      "Le score du jeu de test est de : 0.37\n"
     ]
    }
   ],
   "source": [
    "print(\"Le score du jeu d'entrainement est de : {:.2f}\".format(reg.score(X_train, y_train)))\n",
    "print(\"Le score du jeu de test est de : {:.2f}\".format(reg.score(X_test, y_test)))"
   ]
  },
  {
   "cell_type": "code",
   "execution_count": 48,
   "metadata": {},
   "outputs": [
    {
     "data": {
      "image/png": "[encoded data removed]",
      "text/plain": [
       "<Figure size 720x648 with 1 Axes>"
      ]
     },
     "metadata": {
      "needs_background": "light"
     },
     "output_type": "display_data"
    }
   ],
   "source": [
    "abscisse = np.linspace(0,650)\n",
    "ordonnee = abscisse\n",
    "pred_test = reg.predict(X_test)\n",
    "plt.scatter(y_test,pred_test)\n",
    "plt.xlabel('y_test')\n",
    "plt.ylabel('pred_test')\n",
    "plt.title('pred_test en fonction de y_test')\n",
    "plt.plot(abscisse,ordonnee, color='red')\n",
    "plt.rcParams[\"figure.figsize\"] = [10,9]"
   ]
  },
  {
   "cell_type": "markdown",
   "metadata": {},
   "source": [
    "Ce modèle reste très peu performant malgré l'absence des 'outliers'.\n",
    "\n",
    "Il se peut qu'il ne soit pas adapté à ce genre de problématique où nous avons des séries temporelles : nous pouvons nous représenter le fait que le nombre de locations de vélo suive une trajectoire sinusoidale le long de la journée (alternance heures creuses et heures de pointe), et le long des saisons comme nous l'avons vu lors de l'analyse exploratoire.\n",
    "\n",
    "Essayons tout de même d'améliorer notre modèle avant de passer à un modèle plus sophistiqué, en effectuant une validation croisée."
   ]
  },
  {
   "cell_type": "markdown",
   "metadata": {},
   "source": [
    "### Régression linéaire simple en ne considérant plus les 'outliers' et avec cross-validation\n"
   ]
  },
  {
   "cell_type": "code",
   "execution_count": 49,
   "metadata": {},
   "outputs": [
    {
     "name": "stdout",
     "output_type": "stream",
     "text": [
      "Le score moyen du jeu d'entrainement est de : 0.37\n",
      "Le score moyen du jeu de test est de : 0.36\n"
     ]
    }
   ],
   "source": [
    "from sklearn.model_selection import cross_val_score\n",
    "reg = LinearRegression()\n",
    "scores_train = cross_val_score(reg, X_train, y_train, scoring='r2', cv=10)\n",
    "scores_test = cross_val_score(reg, X_test, y_test, scoring='r2', cv=10)\n",
    "print(\"Le score moyen du jeu d'entrainement est de : {:.2f}\".format(np.mean(scores_train)))\n",
    "print(\"Le score moyen du jeu de test est de : {:.2f}\".format(np.mean(scores_test)))"
   ]
  },
  {
   "cell_type": "markdown",
   "metadata": {},
   "source": [
    "La validation croisée ne permet pas d'améliorer la performance du modèle.\n",
    "\n",
    "Il n'est pas nécessaire d'aller pluis loin, en effectuant par exemple une régulation. En effet, ce modèle est déjà très peu attaché aux données, une régularisation n'a donc pas de sens ici."
   ]
  },
  {
   "cell_type": "markdown",
   "metadata": {},
   "source": [
    "## Un deuxième modèle : le Random Forest\n",
    "\n",
    "### RandomForestRegressor\n",
    "\n",
    "Nous allons reconsidérer ici les 'outliers' dans un premier temps"
   ]
  },
  {
   "cell_type": "code",
   "execution_count": 50,
   "metadata": {},
   "outputs": [],
   "source": [
    "from sklearn.ensemble import RandomForestRegressor\n",
    "X = df.drop([\"count\"], axis=1)\n",
    "y = df[\"count\"]"
   ]
  },
  {
   "cell_type": "code",
   "execution_count": 51,
   "metadata": {},
   "outputs": [
    {
     "name": "stdout",
     "output_type": "stream",
     "text": [
      "Le score moyen du jeu d'entrainement est de : 0.98\n",
      "Le score moyen du jeu de test est de : 0.86\n"
     ]
    }
   ],
   "source": [
    "X_train, X_test, y_train, y_test = train_test_split(X, y, test_size=0.2, random_state=1)\n",
    "rfg = RandomForestRegressor(n_jobs=-1,random_state = 1)\n",
    "rfg.set_params(n_estimators=50)\n",
    "rfg.fit(X_train, y_train)\n",
    "print(\"Le score moyen du jeu d'entrainement est de : {:.2f}\".format(rfg.score(X_train,y_train)))\n",
    "print(\"Le score moyen du jeu de test est de : {:.2f}\".format(rfg.score(X_test, y_test)))"
   ]
  },
  {
   "cell_type": "markdown",
   "metadata": {},
   "source": [
    "Nous pouvons remarquer une nette amélioration de la performance sur ce modèle, alors que les hyper-paramètres n'ont pas encore été optimisés, et que les 'outliers' ont été pris en compte.\n",
    "\n",
    "Remarquons que le modèle se dégrade entre l'entrainement et le test : il semblerait que nous soyons dans un cas de sur-apprentissage.\n",
    "\n",
    "Faisons alors une validation croisée pour le vérifier."
   ]
  },
  {
   "cell_type": "code",
   "execution_count": 52,
   "metadata": {},
   "outputs": [
    {
     "name": "stdout",
     "output_type": "stream",
     "text": [
      "Le score moyen du jeu d'entrainement est de : 0.85\n",
      "Le score moyen du jeu de test est de : 0.81\n",
      "[0.86021607 0.8464909  0.83839898 0.84938691 0.84305878]\n",
      "[0.81252357 0.78969061 0.81847456 0.85171026 0.75927975]\n"
     ]
    }
   ],
   "source": [
    "scores_train = cross_val_score(rfg, X_train, y_train,cv=5)\n",
    "scores_test = cross_val_score(rfg, X_test, y_test, cv=5)\n",
    "print(\"Le score moyen du jeu d'entrainement est de : {:.2f}\".format(np.mean(scores_train)))\n",
    "print(\"Le score moyen du jeu de test est de : {:.2f}\".format(np.mean(scores_test)))\n",
    "print(scores_train)\n",
    "print(scores_test)"
   ]
  },
  {
   "cell_type": "markdown",
   "metadata": {},
   "source": [
    "Nous obtenons ainsi un écart relativement moindre entre le score sur le jeu d'entrainement et le jeu de test.\n",
    "\n",
    "Remarquons néanmoins quer la performance du modèle a diminué au global.\n",
    "\n",
    "Recherchons à optimiser quelques hyper-paramètres afin d'obtenir un meilleur modèle.\n",
    "\n",
    "Commençons par le nombre d'arbres, associé à une validation croisée avec 5 plis."
   ]
  },
  {
   "cell_type": "code",
   "execution_count": 53,
   "metadata": {},
   "outputs": [
    {
     "data": {
      "text/plain": [
       "<matplotlib.legend.Legend at 0x23518bc4bc8>"
      ]
     },
     "execution_count": 53,
     "metadata": {},
     "output_type": "execute_result"
    },
    {
     "data": {
      "image/png": "[encoded data removed]",
      "text/plain": [
       "<Figure size 720x648 with 1 Axes>"
      ]
     },
     "metadata": {
      "needs_background": "light"
     },
     "output_type": "display_data"
    }
   ],
   "source": [
    "X_train, X_test, y_train, y_test = train_test_split(X, y, test_size=0.2, random_state=1)\n",
    "rfg = RandomForestRegressor(n_jobs=-1,random_state = 1)\n",
    "estimators = np.arange(1, 200, 10)\n",
    "scores_train=[]\n",
    "scores_test = []\n",
    "for n in estimators:\n",
    "    rfg.set_params(n_estimators=n)\n",
    "    rfg.fit(X_train, y_train)\n",
    "    scores_train.append(np.mean(cross_val_score(rfg, X_train, y_train,cv=5))) # Nous effectuons une validation croisée pour obtenir le score\n",
    "    scores_test.append(np.mean(cross_val_score(rfg, X_test, y_test, cv=5)))\n",
    "plt.title(\"Influence du nombre d'arbres\")\n",
    "plt.xlabel(\"Nombre d'arbres\")\n",
    "plt.plot(estimators, scores_train)\n",
    "plt.plot(estimators, scores_test)\n",
    "plt.legend(['Score jeu entrainement','Score jeu test'])"
   ]
  },
  {
   "cell_type": "code",
   "execution_count": 54,
   "metadata": {},
   "outputs": [
    {
     "name": "stdout",
     "output_type": "stream",
     "text": [
      " Nombre d'arbres optimal :  181\n",
      " Meilleur score obtenu en test : 0.811\n",
      "21\n",
      " Score obtenu en test pour 21 arbres : 0.803\n"
     ]
    }
   ],
   "source": [
    "best_n = np.argmax(scores_test)\n",
    "print(\" Nombre d'arbres optimal : \",estimators[best_n])\n",
    "print(\" Meilleur score obtenu en test : {:.3f}\".format(scores_test[best_n]))\n",
    "print(estimators[2])\n",
    "print(\" Score obtenu en test pour 21 arbres : {:.3f}\".format(scores_test[2]))"
   ]
  },
  {
   "cell_type": "markdown",
   "metadata": {},
   "source": [
    "Nous remarquons qu'à partir d'environ 21 arbres le score ne varie que très peu : il peut être pertinent de partir sur cette valeur pour des raisons de performance, et de regarder l'influence des autres paramètres.\n",
    "\n",
    "Regardons l'influence des autres hyper-paramètres.\n",
    "\n",
    "Ci-dessous, nous allons optimiser 6 paramètres à la fois, qui sont les suivants :\n",
    "\n",
    "*n_estimators* : nombre d'arbres\n",
    "\n",
    "*max_features* : nombre de variables explicatives maximum\n",
    "\n",
    "*max_depth* : profondeur maximale des arbres\n",
    "\n",
    "*min_samples_split* : nombre minimum de données au niveau d'un noeud \n",
    "\n",
    "*min_samples_leaf* : nombre minimum de données au niveau d'un échantillon \n",
    "\n",
    "*bootstrap* : outil pour utilisation d'un échantillon ou du jeu de données complet pour chaque arbre"
   ]
  },
  {
   "cell_type": "code",
   "execution_count": 55,
   "metadata": {},
   "outputs": [
    {
     "name": "stdout",
     "output_type": "stream",
     "text": [
      "{'n_estimators': [10, 21, 32, 43, 54, 65, 76, 87, 98, 110], 'max_features': ['auto', 'sqrt'], 'max_depth': [10, 21, 32, 43, 54, 65, 76, 87, 98, 110, None], 'min_samples_split': [2, 4, 6, 8, 10], 'min_samples_leaf': [1, 2, 3, 4, 5], 'bootstrap': [True, False]}\n"
     ]
    }
   ],
   "source": [
    "from sklearn.model_selection import RandomizedSearchCV\n",
    "# Number of trees in random forest\n",
    "n_estimators = [int(x) for x in np.linspace(10, 110, num = 10)]\n",
    "# Number of features to consider at every split\n",
    "max_features = ['auto', 'sqrt']\n",
    "# Maximum number of levels in tree\n",
    "max_depth = [int(x) for x in np.linspace(10, 110, num = 10)]\n",
    "max_depth.append(None)\n",
    "# Minimum number of samples required to split a node\n",
    "min_samples_split = [2,4,6,8,10]\n",
    "# Minimum number of samples required at each leaf node\n",
    "min_samples_leaf = [1,2,3,4,5]\n",
    "# Method of selecting samples for training each tree\n",
    "bootstrap = [True, False]\n",
    "# Create the random grid\n",
    "random_grid = {'n_estimators': n_estimators,\n",
    "               'max_features': max_features,\n",
    "               'max_depth': max_depth,\n",
    "               'min_samples_split': min_samples_split,\n",
    "               'min_samples_leaf': min_samples_leaf,\n",
    "               'bootstrap': bootstrap}\n",
    "print(random_grid)"
   ]
  },
  {
   "cell_type": "code",
   "execution_count": 56,
   "metadata": {},
   "outputs": [
    {
     "name": "stdout",
     "output_type": "stream",
     "text": [
      "Fitting 5 folds for each of 50 candidates, totalling 250 fits\n"
     ]
    },
    {
     "name": "stderr",
     "output_type": "stream",
     "text": [
      "[Parallel(n_jobs=-1)]: Using backend LokyBackend with 4 concurrent workers.\n",
      "[Parallel(n_jobs=-1)]: Done  33 tasks      | elapsed:    6.7s\n",
      "[Parallel(n_jobs=-1)]: Done 154 tasks      | elapsed:   34.5s\n",
      "[Parallel(n_jobs=-1)]: Done 250 out of 250 | elapsed:  1.0min finished\n"
     ]
    },
    {
     "data": {
      "text/plain": [
       "RandomizedSearchCV(cv=5, error_score=nan,\n",
       "                   estimator=RandomForestRegressor(bootstrap=True,\n",
       "                                                   ccp_alpha=0.0,\n",
       "                                                   criterion='mse',\n",
       "                                                   max_depth=None,\n",
       "                                                   max_features='auto',\n",
       "                                                   max_leaf_nodes=None,\n",
       "                                                   max_samples=None,\n",
       "                                                   min_impurity_decrease=0.0,\n",
       "                                                   min_impurity_split=None,\n",
       "                                                   min_samples_leaf=1,\n",
       "                                                   min_samples_split=2,\n",
       "                                                   min_weight_fraction_leaf=0.0,\n",
       "                                                   n_estimators=191, n_jobs=-1,\n",
       "                                                   oob_score=False,...\n",
       "                   iid='deprecated', n_iter=50, n_jobs=-1,\n",
       "                   param_distributions={'bootstrap': [True, False],\n",
       "                                        'max_depth': [10, 21, 32, 43, 54, 65,\n",
       "                                                      76, 87, 98, 110, None],\n",
       "                                        'max_features': ['auto', 'sqrt'],\n",
       "                                        'min_samples_leaf': [1, 2, 3, 4, 5],\n",
       "                                        'min_samples_split': [2, 4, 6, 8, 10],\n",
       "                                        'n_estimators': [10, 21, 32, 43, 54, 65,\n",
       "                                                         76, 87, 98, 110]},\n",
       "                   pre_dispatch='2*n_jobs', random_state=1, refit=True,\n",
       "                   return_train_score=False, scoring=None, verbose=2)"
      ]
     },
     "execution_count": 56,
     "metadata": {},
     "output_type": "execute_result"
    }
   ],
   "source": [
    "rfg_random = RandomizedSearchCV(estimator = rfg,\n",
    "                                param_distributions = random_grid,\n",
    "                                n_iter = 50,\n",
    "                                cv = 5,\n",
    "                                verbose=2,\n",
    "                                random_state=1,\n",
    "                                n_jobs = -1)\n",
    "rfg_random.fit(X_train, y_train)"
   ]
  },
  {
   "cell_type": "code",
   "execution_count": 57,
   "metadata": {},
   "outputs": [
    {
     "data": {
      "text/plain": [
       "{'n_estimators': 76,\n",
       " 'min_samples_split': 4,\n",
       " 'min_samples_leaf': 1,\n",
       " 'max_features': 'auto',\n",
       " 'max_depth': 65,\n",
       " 'bootstrap': True}"
      ]
     },
     "execution_count": 57,
     "metadata": {},
     "output_type": "execute_result"
    }
   ],
   "source": [
    "# Ci-dessous nous affichons les paramètres optimaux selon les intervalles de départ, arbitraires, et le calcul\n",
    "# comprenant 50 itérations et 5 plis.\n",
    "rfg_random.best_params_"
   ]
  },
  {
   "cell_type": "code",
   "execution_count": 58,
   "metadata": {},
   "outputs": [
    {
     "data": {
      "text/plain": [
       "RandomForestRegressor(bootstrap=True, ccp_alpha=0.0, criterion='mse',\n",
       "                      max_depth=65, max_features='auto', max_leaf_nodes=None,\n",
       "                      max_samples=None, min_impurity_decrease=0.0,\n",
       "                      min_impurity_split=None, min_samples_leaf=1,\n",
       "                      min_samples_split=4, min_weight_fraction_leaf=0.0,\n",
       "                      n_estimators=76, n_jobs=-1, oob_score=False,\n",
       "                      random_state=1, verbose=0, warm_start=False)"
      ]
     },
     "execution_count": 58,
     "metadata": {},
     "output_type": "execute_result"
    }
   ],
   "source": [
    "# Nous affectons à notre modèle les paramètres optimaux\n",
    "rfg.set_params(**rfg_random.best_params_)"
   ]
  },
  {
   "cell_type": "code",
   "execution_count": 59,
   "metadata": {},
   "outputs": [
    {
     "data": {
      "text/plain": [
       "RandomForestRegressor(bootstrap=True, ccp_alpha=0.0, criterion='mse',\n",
       "                      max_depth=65, max_features='auto', max_leaf_nodes=None,\n",
       "                      max_samples=None, min_impurity_decrease=0.0,\n",
       "                      min_impurity_split=None, min_samples_leaf=1,\n",
       "                      min_samples_split=4, min_weight_fraction_leaf=0.0,\n",
       "                      n_estimators=76, n_jobs=-1, oob_score=False,\n",
       "                      random_state=1, verbose=0, warm_start=False)"
      ]
     },
     "execution_count": 59,
     "metadata": {},
     "output_type": "execute_result"
    }
   ],
   "source": [
    "rfg.fit(X_train, y_train)"
   ]
  },
  {
   "cell_type": "code",
   "execution_count": 60,
   "metadata": {},
   "outputs": [
    {
     "name": "stdout",
     "output_type": "stream",
     "text": [
      "Le score moyen du jeu d'entrainement est de : 0.85\n",
      "Le score moyen du jeu de test est de : 0.81\n"
     ]
    }
   ],
   "source": [
    "scores_train = cross_val_score(rfg, X_train, y_train,cv=5)\n",
    "scores_test = cross_val_score(rfg, X_test, y_test, cv=5)\n",
    "print(\"Le score moyen du jeu d'entrainement est de : {:.2f}\".format(np.mean(scores_train)))\n",
    "print(\"Le score moyen du jeu de test est de : {:.2f}\".format(np.mean(scores_test)))"
   ]
  },
  {
   "cell_type": "markdown",
   "metadata": {},
   "source": [
    "Nous avons optimisé le modèle. Cependant, ses performances n'ont pas été relativement améliorées.\n",
    "\n",
    "Traçons la courbe de la prediction en fonction de la valeur réelle."
   ]
  },
  {
   "cell_type": "code",
   "execution_count": 61,
   "metadata": {},
   "outputs": [
    {
     "data": {
      "image/png": "[encoded data removed]",
      "text/plain": [
       "<Figure size 720x648 with 1 Axes>"
      ]
     },
     "metadata": {
      "needs_background": "light"
     },
     "output_type": "display_data"
    }
   ],
   "source": [
    "abscisse = np.linspace(0,800)\n",
    "ordonnee = abscisse\n",
    "pred_test = rfg.predict(X_test)\n",
    "plt.scatter(y_test,pred_test)\n",
    "plt.xlabel('y_test')\n",
    "plt.ylabel('pred_test')\n",
    "plt.title('pred_test en fonction de y_test')\n",
    "plt.plot(abscisse,ordonnee, color='red')\n",
    "plt.rcParams[\"figure.figsize\"] = [10,9]"
   ]
  },
  {
   "cell_type": "markdown",
   "metadata": {},
   "source": [
    "Nous observons que ce modèle gère beaucoup mieux les 'outliers'.\n",
    "C'est un modèle assez performant qui permet d'avoir une très bonne approximation de la variable cible."
   ]
  },
  {
   "cell_type": "markdown",
   "metadata": {},
   "source": [
    "### RandomForestRegressor sans prise en compte des 'outliers'\n"
   ]
  },
  {
   "cell_type": "code",
   "execution_count": 62,
   "metadata": {},
   "outputs": [
    {
     "data": {
      "text/plain": [
       "(10582, 17)"
      ]
     },
     "execution_count": 62,
     "metadata": {},
     "output_type": "execute_result"
    }
   ],
   "source": [
    "X = df.drop([\"count\"], axis=1)\n",
    "X= X.drop(df[df['count'] >= seuil].index)\n",
    "X.shape"
   ]
  },
  {
   "cell_type": "code",
   "execution_count": 63,
   "metadata": {},
   "outputs": [
    {
     "data": {
      "text/plain": [
       "(10582,)"
      ]
     },
     "execution_count": 63,
     "metadata": {},
     "output_type": "execute_result"
    }
   ],
   "source": [
    "y = df[\"count\"]\n",
    "y = y.drop(df[df['count'] >= seuil].index)\n",
    "y.shape"
   ]
  },
  {
   "cell_type": "code",
   "execution_count": 64,
   "metadata": {},
   "outputs": [
    {
     "data": {
      "text/plain": [
       "RandomForestRegressor(bootstrap=True, ccp_alpha=0.0, criterion='mse',\n",
       "                      max_depth=65, max_features='auto', max_leaf_nodes=None,\n",
       "                      max_samples=None, min_impurity_decrease=0.0,\n",
       "                      min_impurity_split=None, min_samples_leaf=1,\n",
       "                      min_samples_split=4, min_weight_fraction_leaf=0.0,\n",
       "                      n_estimators=76, n_jobs=-1, oob_score=False,\n",
       "                      random_state=1, verbose=0, warm_start=False)"
      ]
     },
     "execution_count": 64,
     "metadata": {},
     "output_type": "execute_result"
    }
   ],
   "source": [
    "X_train, X_test, y_train, y_test = train_test_split(X, y, test_size=0.2, random_state=1)\n",
    "rfg.fit(X_train, y_train)"
   ]
  },
  {
   "cell_type": "code",
   "execution_count": 65,
   "metadata": {},
   "outputs": [
    {
     "name": "stdout",
     "output_type": "stream",
     "text": [
      "Le score moyen du jeu d'entrainement est de : 0.84\n",
      "Le score moyen du jeu de test est de : 0.80\n"
     ]
    }
   ],
   "source": [
    "scores_train = cross_val_score(rfg, X_train, y_train,cv=5)\n",
    "scores_test = cross_val_score(rfg, X_test, y_test, cv=5)\n",
    "print(\"Le score moyen du jeu d'entrainement est de : {:.2f}\".format(np.mean(scores_train)))\n",
    "print(\"Le score moyen du jeu de test est de : {:.2f}\".format(np.mean(scores_test)))"
   ]
  },
  {
   "cell_type": "markdown",
   "metadata": {},
   "source": [
    "Nous pourrions nous étonné d'obtenir un score plus faible alors que nous avons retiré les outliers.\n",
    "\n",
    "En fait, les hyper-paramètres sont à nouveau à optimiser comme le jeu de données n'est plus tout à fait le même."
   ]
  },
  {
   "cell_type": "code",
   "execution_count": 66,
   "metadata": {},
   "outputs": [
    {
     "name": "stdout",
     "output_type": "stream",
     "text": [
      "{'n_estimators': [10, 21, 32, 43, 54, 65, 76, 87, 98, 110], 'max_features': ['auto', 'sqrt'], 'max_depth': [10, 21, 32, 43, 54, 65, 76, 87, 98, 110, None], 'min_samples_split': [2, 4, 6, 8, 10], 'min_samples_leaf': [1, 2, 3, 4, 5], 'bootstrap': [True, False]}\n"
     ]
    }
   ],
   "source": [
    "from sklearn.model_selection import RandomizedSearchCV\n",
    "# Number of trees in random forest\n",
    "n_estimators = [int(x) for x in np.linspace(10, 110, num = 10)]\n",
    "# Number of features to consider at every split\n",
    "max_features = ['auto', 'sqrt']\n",
    "# Maximum number of levels in tree\n",
    "max_depth = [int(x) for x in np.linspace(10, 110, num = 10)]\n",
    "max_depth.append(None)\n",
    "# Minimum number of samples required to split a node\n",
    "min_samples_split = [2,4,6,8,10]\n",
    "# Minimum number of samples required at each leaf node\n",
    "min_samples_leaf = [1,2,3,4,5]\n",
    "# Method of selecting samples for training each tree\n",
    "bootstrap = [True, False]\n",
    "# Create the random grid\n",
    "random_grid = {'n_estimators': n_estimators,\n",
    "               'max_features': max_features,\n",
    "               'max_depth': max_depth,\n",
    "               'min_samples_split': min_samples_split,\n",
    "               'min_samples_leaf': min_samples_leaf,\n",
    "               'bootstrap': bootstrap}\n",
    "print(random_grid)"
   ]
  },
  {
   "cell_type": "code",
   "execution_count": 67,
   "metadata": {},
   "outputs": [
    {
     "name": "stdout",
     "output_type": "stream",
     "text": [
      "Fitting 5 folds for each of 50 candidates, totalling 250 fits\n"
     ]
    },
    {
     "name": "stderr",
     "output_type": "stream",
     "text": [
      "[Parallel(n_jobs=-1)]: Using backend LokyBackend with 4 concurrent workers.\n",
      "[Parallel(n_jobs=-1)]: Done  33 tasks      | elapsed:    6.3s\n",
      "[Parallel(n_jobs=-1)]: Done 154 tasks      | elapsed:   31.4s\n",
      "[Parallel(n_jobs=-1)]: Done 250 out of 250 | elapsed:   57.6s finished\n"
     ]
    },
    {
     "data": {
      "text/plain": [
       "RandomizedSearchCV(cv=5, error_score=nan,\n",
       "                   estimator=RandomForestRegressor(bootstrap=True,\n",
       "                                                   ccp_alpha=0.0,\n",
       "                                                   criterion='mse',\n",
       "                                                   max_depth=65,\n",
       "                                                   max_features='auto',\n",
       "                                                   max_leaf_nodes=None,\n",
       "                                                   max_samples=None,\n",
       "                                                   min_impurity_decrease=0.0,\n",
       "                                                   min_impurity_split=None,\n",
       "                                                   min_samples_leaf=1,\n",
       "                                                   min_samples_split=4,\n",
       "                                                   min_weight_fraction_leaf=0.0,\n",
       "                                                   n_estimators=76, n_jobs=-1,\n",
       "                                                   oob_score=False,\n",
       "                                                   ran...\n",
       "                   iid='deprecated', n_iter=50, n_jobs=-1,\n",
       "                   param_distributions={'bootstrap': [True, False],\n",
       "                                        'max_depth': [10, 21, 32, 43, 54, 65,\n",
       "                                                      76, 87, 98, 110, None],\n",
       "                                        'max_features': ['auto', 'sqrt'],\n",
       "                                        'min_samples_leaf': [1, 2, 3, 4, 5],\n",
       "                                        'min_samples_split': [2, 4, 6, 8, 10],\n",
       "                                        'n_estimators': [10, 21, 32, 43, 54, 65,\n",
       "                                                         76, 87, 98, 110]},\n",
       "                   pre_dispatch='2*n_jobs', random_state=1, refit=True,\n",
       "                   return_train_score=False, scoring=None, verbose=2)"
      ]
     },
     "execution_count": 67,
     "metadata": {},
     "output_type": "execute_result"
    }
   ],
   "source": [
    "rfg_random = RandomizedSearchCV(estimator = rfg,\n",
    "                                param_distributions = random_grid,\n",
    "                                n_iter = 50,\n",
    "                                cv = 5,\n",
    "                                verbose=2,\n",
    "                                random_state=1,\n",
    "                                n_jobs = -1)\n",
    "rfg_random.fit(X_train, y_train)"
   ]
  },
  {
   "cell_type": "code",
   "execution_count": 68,
   "metadata": {},
   "outputs": [
    {
     "data": {
      "text/plain": [
       "{'n_estimators': 76,\n",
       " 'min_samples_split': 4,\n",
       " 'min_samples_leaf': 1,\n",
       " 'max_features': 'auto',\n",
       " 'max_depth': 65,\n",
       " 'bootstrap': True}"
      ]
     },
     "execution_count": 68,
     "metadata": {},
     "output_type": "execute_result"
    }
   ],
   "source": [
    "rfg_random.best_params_"
   ]
  },
  {
   "cell_type": "code",
   "execution_count": 69,
   "metadata": {},
   "outputs": [
    {
     "data": {
      "text/plain": [
       "RandomForestRegressor(bootstrap=True, ccp_alpha=0.0, criterion='mse',\n",
       "                      max_depth=65, max_features='auto', max_leaf_nodes=None,\n",
       "                      max_samples=None, min_impurity_decrease=0.0,\n",
       "                      min_impurity_split=None, min_samples_leaf=1,\n",
       "                      min_samples_split=4, min_weight_fraction_leaf=0.0,\n",
       "                      n_estimators=76, n_jobs=-1, oob_score=False,\n",
       "                      random_state=1, verbose=0, warm_start=False)"
      ]
     },
     "execution_count": 69,
     "metadata": {},
     "output_type": "execute_result"
    }
   ],
   "source": [
    "rfg.set_params(**rfg_random.best_params_)"
   ]
  },
  {
   "cell_type": "code",
   "execution_count": 70,
   "metadata": {},
   "outputs": [
    {
     "data": {
      "text/plain": [
       "RandomForestRegressor(bootstrap=True, ccp_alpha=0.0, criterion='mse',\n",
       "                      max_depth=65, max_features='auto', max_leaf_nodes=None,\n",
       "                      max_samples=None, min_impurity_decrease=0.0,\n",
       "                      min_impurity_split=None, min_samples_leaf=1,\n",
       "                      min_samples_split=4, min_weight_fraction_leaf=0.0,\n",
       "                      n_estimators=76, n_jobs=-1, oob_score=False,\n",
       "                      random_state=1, verbose=0, warm_start=False)"
      ]
     },
     "execution_count": 70,
     "metadata": {},
     "output_type": "execute_result"
    }
   ],
   "source": [
    "rfg.fit(X_train, y_train)"
   ]
  },
  {
   "cell_type": "code",
   "execution_count": 71,
   "metadata": {},
   "outputs": [
    {
     "name": "stdout",
     "output_type": "stream",
     "text": [
      "Le score moyen du jeu d'entrainement est de : 0.84\n",
      "Le score moyen du jeu de test est de : 0.80\n"
     ]
    }
   ],
   "source": [
    "scores_train = cross_val_score(rfg, X_train, y_train,cv=5)\n",
    "scores_test = cross_val_score(rfg, X_test, y_test, cv=5)\n",
    "print(\"Le score moyen du jeu d'entrainement est de : {:.2f}\".format(np.mean(scores_train)))\n",
    "print(\"Le score moyen du jeu de test est de : {:.2f}\".format(np.mean(scores_test)))"
   ]
  },
  {
   "cell_type": "markdown",
   "metadata": {},
   "source": [
    "Finalement, nous obtenons des performances similmaires, avec ou sans 'outliers'."
   ]
  },
  {
   "cell_type": "markdown",
   "metadata": {},
   "source": [
    "## Un troisième modèle : le XGBoost\n",
    "\n",
    "### XGBRegressor\n",
    "\n",
    "Nous irons moins dans le détail pour ce troisième modèle, où je vais directement optimiser les 4 paramètres suivants à l'aide d'un GridSearch associé à une validation croisée à 5 plis :\n",
    "\n",
    "*colsample_bytree* : sous-echantillage à utiliser pour chaque 'arbre'  \n",
    "\n",
    "*min_child_weight*: nombre d'instance minimum pour chaque noeud\n",
    "\n",
    "*max_depth* : profondeur maximum d'un 'arbre'\n",
    "\n",
    "*n_estimators* : nombre d'étapes ou de décomposition avant l'aggrégation"
   ]
  },
  {
   "cell_type": "code",
   "execution_count": 72,
   "metadata": {},
   "outputs": [
    {
     "name": "stdout",
     "output_type": "stream",
     "text": [
      "Fitting 5 folds for each of 12 candidates, totalling 60 fits\n"
     ]
    },
    {
     "name": "stderr",
     "output_type": "stream",
     "text": [
      "[Parallel(n_jobs=1)]: Using backend SequentialBackend with 1 concurrent workers.\n",
      "[Parallel(n_jobs=1)]: Done  60 out of  60 | elapsed:  1.1min finished\n"
     ]
    },
    {
     "data": {
      "text/plain": [
       "GridSearchCV(cv=None, error_score=nan,\n",
       "             estimator=XGBRegressor(base_score=None, booster=None,\n",
       "                                    colsample_bylevel=None,\n",
       "                                    colsample_bynode=None,\n",
       "                                    colsample_bytree=None, gamma=None,\n",
       "                                    gpu_id=None, importance_type='gain',\n",
       "                                    interaction_constraints=None,\n",
       "                                    learning_rate=None, max_delta_step=None,\n",
       "                                    max_depth=None, min_child_weight=None,\n",
       "                                    missing=nan, monotone_constraints=None,\n",
       "                                    n_est...\n",
       "                                    random_state=None, reg_alpha=None,\n",
       "                                    reg_lambda=None, scale_pos_weight=None,\n",
       "                                    subsample=None, tree_method=None,\n",
       "                                    validate_parameters=None, verbosity=None),\n",
       "             iid='deprecated', n_jobs=None,\n",
       "             param_grid={'colsample_bytree': [1.0], 'max_depth': [3, 4, 6],\n",
       "                         'min_child_weight': [1.0, 1.2],\n",
       "                         'n_estimators': [500, 1000]},\n",
       "             pre_dispatch='2*n_jobs', refit=True, return_train_score=False,\n",
       "             scoring=None, verbose=1)"
      ]
     },
     "execution_count": 72,
     "metadata": {},
     "output_type": "execute_result"
    }
   ],
   "source": [
    "import xgboost as xgb\n",
    "from sklearn.model_selection import GridSearchCV\n",
    "X = df.drop([\"count\"], axis=1)\n",
    "y = df[\"count\"]\n",
    "X_train, X_test, y_train, y_test = train_test_split(X, y, test_size=0.2, random_state=1)\n",
    "gbm = xgb.XGBRegressor()\n",
    "reg_cv = GridSearchCV(gbm, {\"colsample_bytree\":[1.0],\"min_child_weight\":[1.0,1.2]\n",
    "                            ,'max_depth': [3,4,6], 'n_estimators': [500,1000]}, verbose=1)\n",
    "reg_cv.fit(X_train,y_train)"
   ]
  },
  {
   "cell_type": "code",
   "execution_count": 73,
   "metadata": {},
   "outputs": [
    {
     "data": {
      "text/plain": [
       "{'colsample_bytree': 1.0,\n",
       " 'max_depth': 4,\n",
       " 'min_child_weight': 1.0,\n",
       " 'n_estimators': 500}"
      ]
     },
     "execution_count": 73,
     "metadata": {},
     "output_type": "execute_result"
    }
   ],
   "source": [
    "reg_cv.best_params_"
   ]
  },
  {
   "cell_type": "code",
   "execution_count": 74,
   "metadata": {},
   "outputs": [
    {
     "data": {
      "text/plain": [
       "XGBRegressor(base_score=0.5, booster='gbtree', colsample_bylevel=1,\n",
       "             colsample_bynode=1, colsample_bytree=1.0, gamma=0, gpu_id=-1,\n",
       "             importance_type='gain', interaction_constraints='',\n",
       "             learning_rate=0.300000012, max_delta_step=0, max_depth=4,\n",
       "             min_child_weight=1.0, missing=nan, monotone_constraints='()',\n",
       "             n_estimators=500, n_jobs=0, num_parallel_tree=1,\n",
       "             objective='reg:squarederror', random_state=0, reg_alpha=0,\n",
       "             reg_lambda=1, scale_pos_weight=1, subsample=1, tree_method='exact',\n",
       "             validate_parameters=1, verbosity=None)"
      ]
     },
     "execution_count": 74,
     "metadata": {},
     "output_type": "execute_result"
    }
   ],
   "source": [
    "X_train, X_test, y_train, y_test = train_test_split(X, y, test_size=0.2)\n",
    "gbm = xgb.XGBRegressor(**reg_cv.best_params_)\n",
    "gbm.fit(X_train,y_train)"
   ]
  },
  {
   "cell_type": "code",
   "execution_count": 75,
   "metadata": {},
   "outputs": [
    {
     "name": "stdout",
     "output_type": "stream",
     "text": [
      "Train score: 0.94\n",
      "Test score: 0.87\n"
     ]
    }
   ],
   "source": [
    "print(\"Train score: {:.2f}\".format(gbm.score(X_train,y_train)))\n",
    "print(\"Test score: {:.2f}\".format(gbm.score(X_test,y_test)))"
   ]
  },
  {
   "cell_type": "code",
   "execution_count": 76,
   "metadata": {},
   "outputs": [
    {
     "name": "stdout",
     "output_type": "stream",
     "text": [
      "Le score moyen du jeu d'entrainement est de : 0.86\n",
      "Le score moyen du jeu de test est de : 0.80\n"
     ]
    }
   ],
   "source": [
    "scores_train = cross_val_score(gbm, X_train, y_train,cv=5)\n",
    "scores_test = cross_val_score(gbm, X_test, y_test, cv=5)\n",
    "print(\"Le score moyen du jeu d'entrainement est de : {:.2f}\".format(np.mean(scores_train)))\n",
    "print(\"Le score moyen du jeu de test est de : {:.2f}\".format(np.mean(scores_test)))"
   ]
  },
  {
   "cell_type": "code",
   "execution_count": 77,
   "metadata": {},
   "outputs": [
    {
     "data": {
      "image/png": "[encoded data removed]",
      "text/plain": [
       "<Figure size 720x648 with 1 Axes>"
      ]
     },
     "metadata": {
      "needs_background": "light"
     },
     "output_type": "display_data"
    }
   ],
   "source": [
    "abscisse = np.linspace(0,800)\n",
    "ordonnee = abscisse\n",
    "pred_test = gbm.predict(X_test)\n",
    "plt.scatter(y_test,pred_test)\n",
    "plt.xlabel('y_test')\n",
    "plt.ylabel('pred_test')\n",
    "plt.title('pred_test en fonction de y_test')\n",
    "plt.plot(abscisse,ordonnee, color='red')\n",
    "plt.rcParams[\"figure.figsize\"] = [10,9]"
   ]
  },
  {
   "cell_type": "markdown",
   "metadata": {},
   "source": [
    "Ce modèle donne de très bons résultats comme nous pouvons le voir ci-dessus. \n",
    "\n",
    "L'écart se creuse pour les valeurs élevées de la valeur cible. Je pense que cela est due à la distribution de la variable cible, qui fait que le modèle a très peu de données avec des valeurs élevées pour pouvoir être performant. \n",
    "\n",
    "Les performances sont à peu près équivalents qu'avec le modèle précédent: ces deux modèles se base sur le même modèle qui est l'arbre de décision"
   ]
  },
  {
   "cell_type": "markdown",
   "metadata": {},
   "source": [
    "## Conclusion\n",
    "\n",
    "En conclusion, nous avons testé plusieurs modèles afin de connaitre leurs performances sur notre jeu de données.\n",
    "\n",
    "La phase de préparation des données et de pré-processing est fondamentale.\n",
    "\n",
    "Dans cet exercice je n'ai pas retouché au jeu de données, mais j'aurais pu par exemple essayer une autre modélisation du jeu de données (par exemple utiliser l'heure en tant que variable catégorielle, ou retirer la variable *month* qui donne substantiellement la même information que la variable *season*, sans pour autant être trop précis, ce qui peut mener à un sur apprentissage.\n",
    "\n",
    "La modélisation choisie ne permet pas à un modèle de régression linéaire simple d'avoir une bonne performance.\n",
    "\n",
    "Il est donc important d'essayer plusieurs modèles avant de conclure à un sous-apprentissage. Je pense que la période cyclique de la variable cible ne permet pas d'avoir une bonne approximation par une régression linéaire.\n",
    "\n",
    "Il est également important d'optimiser les hyper-paramètres des modèles pour améliorer les performances. Cette phase peut-être très longue, et il n'est pas aisé de savoir dans quels intervals rechercher nos paramètres.\n",
    "\n",
    "Il peut être intéressant de couvrir une large amplitude au départ, avec un découpage faible, puis, une fois l'intervalle intéressant repéré, faire un découpage plus régulier afin d'obtenir les meilleurs hyper-paramètres."
   ]
  }
 ],
 "metadata": {
  "kernelspec": {
   "display_name": "Python 3",
   "language": "python",
   "name": "python3"
  },
  "language_info": {
   "codemirror_mode": {
    "name": "ipython",
    "version": 3
   },
   "file_extension": ".py",
   "mimetype": "text/x-python",
   "name": "python",
   "nbconvert_exporter": "python",
   "pygments_lexer": "ipython3",
   "version": "3.7.6"
  },
  "toc": {
   "colors": {
    "hover_highlight": "#DAA520",
    "running_highlight": "#FF0000",
    "selected_highlight": "#FFD700"
   },
   "moveMenuLeft": true,
   "nav_menu": {
    "height": "30px",
    "width": "252px"
   },
   "navigate_menu": true,
   "number_sections": true,
   "sideBar": true,
   "threshold": 4,
   "toc_cell": false,
   "toc_section_display": "block",
   "toc_window_display": false,
   "widenNotebook": false
  }
 },
 "nbformat": 4,
 "nbformat_minor": 2
}
