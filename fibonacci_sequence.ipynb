{
 "cells": [
  {
   "attachments": {},
   "cell_type": "markdown",
   "metadata": {},
   "source": [
    "# The Fibonacci Sequence in Python : different techniques and optimisation\n"
   ]
  },
  {
   "attachments": {},
   "cell_type": "markdown",
   "metadata": {},
   "source": [
    "The target is to generate the Fibonnacci sequence : 0, 1, 1, 2, 3, 5, 8, 13, ...\n",
    "\n",
    "### Recursive function \n",
    "\n",
    "#### Recursive function without optimisation\n",
    "\n",
    "The Fibonacci sequence can be retrieved from different ways : one iterative and one recursive.\n",
    "\n",
    "For the recursive way, we will start to generate the sequence without optimization."
   ]
  },
  {
   "cell_type": "code",
   "execution_count": 15,
   "metadata": {},
   "outputs": [],
   "source": [
    "def fibonacci_recursive(n) :\n",
    "    if n in {0,1} :\n",
    "        return n\n",
    "    return fibonacci_recursive(n-1) + fibonacci_recursive(n-2)"
   ]
  },
  {
   "cell_type": "code",
   "execution_count": 16,
   "metadata": {},
   "outputs": [
    {
     "name": "stdout",
     "output_type": "stream",
     "text": [
      "[0, 1, 1, 2, 3, 5, 8, 13, 21, 34, 55, 89, 144, 233, 377, 610, 987, 1597, 2584, 4181, 6765, 10946, 17711, 28657, 46368, 75025, 121393, 196418, 317811, 514229, 832040, 1346269, 2178309, 3524578, 5702887, 9227465, 14930352, 24157817, 39088169, 63245986]\n",
      "Duration: 0:01:21.825404\n"
     ]
    }
   ],
   "source": [
    "from datetime import datetime\n",
    "\n",
    "\n",
    "start_time = datetime.now()\n",
    "print([fibonacci_recursive(n) for n in range(40)])\n",
    "end_time = datetime.now()\n",
    "\n",
    "print(\"Duration: {}\".format(end_time - start_time))"
   ]
  },
  {
   "attachments": {},
   "cell_type": "markdown",
   "metadata": {},
   "source": [
    "#### Recursive function with optimisation\n",
    "\n",
    "Here an example : \\\n",
    "                            F(6) = F(5) + F(4) \\\n",
    "                          = (F(4) + F(3)) + F(4) --> Calculation of F(4) two times \\\n",
    "                          = F(3) + F(2) + F(3) + F(3) + F(2) --> Calculation of F(3) three times  \\\n",
    "                          = F(2) + F(1) + F(2) + F(2) + F(1) + F(2) + F(1) + F(2) --> Calculation of F(2) five times  \\\n",
    "                       ..."
   ]
  },
  {
   "cell_type": "code",
   "execution_count": 58,
   "metadata": {},
   "outputs": [],
   "source": [
    "#using a dictionnary for memorizing intermediary results\n",
    "\n",
    "cache = {0: 0 , 1: 1}\n",
    "\n",
    "def fibonacci_recursive_optimized(n) :\n",
    "    if n in cache :\n",
    "        return cache[n]\n",
    "    cache[n] = fibonacci_recursive_optimized(n-1) + fibonacci_recursive_optimized(n-2)\n",
    "    return cache[n]"
   ]
  },
  {
   "cell_type": "code",
   "execution_count": 60,
   "metadata": {},
   "outputs": [
    {
     "name": "stdout",
     "output_type": "stream",
     "text": [
      "Duration: 0:00:00.494605\n"
     ]
    }
   ],
   "source": [
    "start_time = datetime.now()\n",
    "([fibonacci_recursive_optimized(n) for n in range(100000)])\n",
    "end_time = datetime.now()\n",
    "\n",
    "print(\"Duration: {}\".format(end_time - start_time))"
   ]
  },
  {
   "attachments": {},
   "cell_type": "markdown",
   "metadata": {},
   "source": [
    "It takes less than 1 second with the cache, when it takes more than 1 minute without the cache : here it is important to think about it.\n",
    "\n",
    "We reduce the complexity of the algorithm, from O(2^n) to O(n) (binary tree to list)"
   ]
  },
  {
   "attachments": {},
   "cell_type": "markdown",
   "metadata": {},
   "source": [
    "### Iterative function "
   ]
  },
  {
   "cell_type": "code",
   "execution_count": 55,
   "metadata": {},
   "outputs": [],
   "source": [
    "def fibonacci_iterative(n):\n",
    "    a, b = 0, 1\n",
    "    for i in range(0, n):\n",
    "        a, b = b, a + b\n",
    "    return a"
   ]
  },
  {
   "cell_type": "code",
   "execution_count": 57,
   "metadata": {},
   "outputs": [
    {
     "name": "stdout",
     "output_type": "stream",
     "text": [
      "[0, 1, 1, 2, 3, 5, 8, 13, 21, 34, 55, 89, 144, 233, 377, 610, 987, 1597, 2584, 4181, 6765, 10946, 17711, 28657, 46368, 75025, 121393, 196418, 317811, 514229, 832040, 1346269, 2178309, 3524578, 5702887, 9227465, 14930352, 24157817, 39088169, 63245986]\n",
      "Duration: 0:00:00\n"
     ]
    }
   ],
   "source": [
    "start_time = datetime.now()\n",
    "print([fibonacci_iterative(n) for n in range(40)])\n",
    "end_time = datetime.now()\n",
    "\n",
    "print(\"Duration: {}\".format(end_time - start_time))"
   ]
  }
 ],
 "metadata": {
  "kernelspec": {
   "display_name": "base",
   "language": "python",
   "name": "python3"
  },
  "language_info": {
   "codemirror_mode": {
    "name": "ipython",
    "version": 3
   },
   "file_extension": ".py",
   "mimetype": "text/x-python",
   "name": "python",
   "nbconvert_exporter": "python",
   "pygments_lexer": "ipython3",
   "version": "3.8.5"
  },
  "orig_nbformat": 4
 },
 "nbformat": 4,
 "nbformat_minor": 2
}
